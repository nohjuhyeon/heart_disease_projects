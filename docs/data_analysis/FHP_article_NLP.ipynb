{
 "cells": [
  {
   "cell_type": "markdown",
   "id": "6f5eb7d6-b69b-4e16-add0-a33010f560f7",
   "metadata": {},
   "source": [
    "## 데이터 불러오기"
   ]
  },
  {
   "cell_type": "code",
   "execution_count": 72,
   "id": "380081fe-b69c-4278-9934-ce279c47c9f0",
   "metadata": {},
   "outputs": [
    {
     "name": "stdout",
     "output_type": "stream",
     "text": [
      "Requirement already satisfied: openpyxl in /usr/local/lib/python3.11/site-packages (3.1.2)\n",
      "Requirement already satisfied: et-xmlfile in /usr/local/lib/python3.11/site-packages (from openpyxl) (1.1.0)\n",
      "\u001b[33mWARNING: Running pip as the 'root' user can result in broken permissions and conflicting behaviour with the system package manager. It is recommended to use a virtual environment instead: https://pip.pypa.io/warnings/venv\u001b[0m\u001b[33m\n",
      "\u001b[0mNote: you may need to restart the kernel to use updated packages.\n"
     ]
    }
   ],
   "source": [
    "pip install openpyxl"
   ]
  },
  {
   "cell_type": "code",
   "execution_count": 73,
   "id": "ac6ca6a0-8449-4cbc-b85f-f1ab2f268a1d",
   "metadata": {},
   "outputs": [
    {
     "name": "stdout",
     "output_type": "stream",
     "text": [
      "Requirement already satisfied: nltk in /usr/local/lib/python3.11/site-packages (3.8.1)\n",
      "Requirement already satisfied: click in /usr/local/lib/python3.11/site-packages (from nltk) (8.1.7)\n",
      "Requirement already satisfied: joblib in /usr/local/lib/python3.11/site-packages (from nltk) (1.4.0)\n",
      "Requirement already satisfied: regex>=2021.8.3 in /usr/local/lib/python3.11/site-packages (from nltk) (2023.12.25)\n",
      "Requirement already satisfied: tqdm in /usr/local/lib/python3.11/site-packages (from nltk) (4.66.2)\n",
      "\u001b[33mWARNING: Running pip as the 'root' user can result in broken permissions and conflicting behaviour with the system package manager. It is recommended to use a virtual environment instead: https://pip.pypa.io/warnings/venv\u001b[0m\u001b[33m\n",
      "\u001b[0mNote: you may need to restart the kernel to use updated packages.\n"
     ]
    }
   ],
   "source": [
    "pip install nltk"
   ]
  },
  {
   "cell_type": "code",
   "execution_count": 74,
   "id": "ccbb4d36-ab7e-4aa7-adc9-64209b579567",
   "metadata": {
    "scrolled": true
   },
   "outputs": [
    {
     "name": "stdout",
     "output_type": "stream",
     "text": [
      "Requirement already satisfied: sentence_transformers in /usr/local/lib/python3.11/site-packages (2.6.1)\n",
      "Requirement already satisfied: transformers<5.0.0,>=4.32.0 in /usr/local/lib/python3.11/site-packages (from sentence_transformers) (4.39.3)\n",
      "Requirement already satisfied: tqdm in /usr/local/lib/python3.11/site-packages (from sentence_transformers) (4.66.2)\n",
      "Requirement already satisfied: torch>=1.11.0 in /usr/local/lib/python3.11/site-packages (from sentence_transformers) (2.2.2)\n",
      "Requirement already satisfied: numpy in /usr/local/lib/python3.11/site-packages (from sentence_transformers) (1.26.4)\n",
      "Requirement already satisfied: scikit-learn in /usr/local/lib/python3.11/site-packages (from sentence_transformers) (1.4.1.post1)\n",
      "Requirement already satisfied: scipy in /usr/local/lib/python3.11/site-packages (from sentence_transformers) (1.13.0)\n",
      "Requirement already satisfied: huggingface-hub>=0.15.1 in /usr/local/lib/python3.11/site-packages (from sentence_transformers) (0.22.2)\n",
      "Requirement already satisfied: Pillow in /usr/local/lib/python3.11/site-packages (from sentence_transformers) (10.3.0)\n",
      "Requirement already satisfied: filelock in /usr/local/lib/python3.11/site-packages (from huggingface-hub>=0.15.1->sentence_transformers) (3.13.4)\n",
      "Requirement already satisfied: fsspec>=2023.5.0 in /usr/local/lib/python3.11/site-packages (from huggingface-hub>=0.15.1->sentence_transformers) (2024.3.1)\n",
      "Requirement already satisfied: packaging>=20.9 in /usr/local/lib/python3.11/site-packages (from huggingface-hub>=0.15.1->sentence_transformers) (24.0)\n",
      "Requirement already satisfied: pyyaml>=5.1 in /usr/local/lib/python3.11/site-packages (from huggingface-hub>=0.15.1->sentence_transformers) (6.0.1)\n",
      "Requirement already satisfied: requests in /usr/local/lib/python3.11/site-packages (from huggingface-hub>=0.15.1->sentence_transformers) (2.31.0)\n",
      "Requirement already satisfied: typing-extensions>=3.7.4.3 in /usr/local/lib/python3.11/site-packages (from huggingface-hub>=0.15.1->sentence_transformers) (4.11.0)\n",
      "Requirement already satisfied: sympy in /usr/local/lib/python3.11/site-packages (from torch>=1.11.0->sentence_transformers) (1.12)\n",
      "Requirement already satisfied: networkx in /usr/local/lib/python3.11/site-packages (from torch>=1.11.0->sentence_transformers) (3.3)\n",
      "Requirement already satisfied: jinja2 in /usr/local/lib/python3.11/site-packages (from torch>=1.11.0->sentence_transformers) (3.1.3)\n",
      "Requirement already satisfied: regex!=2019.12.17 in /usr/local/lib/python3.11/site-packages (from transformers<5.0.0,>=4.32.0->sentence_transformers) (2023.12.25)\n",
      "Requirement already satisfied: tokenizers<0.19,>=0.14 in /usr/local/lib/python3.11/site-packages (from transformers<5.0.0,>=4.32.0->sentence_transformers) (0.15.2)\n",
      "Requirement already satisfied: safetensors>=0.4.1 in /usr/local/lib/python3.11/site-packages (from transformers<5.0.0,>=4.32.0->sentence_transformers) (0.4.2)\n",
      "Requirement already satisfied: joblib>=1.2.0 in /usr/local/lib/python3.11/site-packages (from scikit-learn->sentence_transformers) (1.4.0)\n",
      "Requirement already satisfied: threadpoolctl>=2.0.0 in /usr/local/lib/python3.11/site-packages (from scikit-learn->sentence_transformers) (3.4.0)\n",
      "Requirement already satisfied: MarkupSafe>=2.0 in /usr/local/lib/python3.11/site-packages (from jinja2->torch>=1.11.0->sentence_transformers) (2.1.5)\n",
      "Requirement already satisfied: charset-normalizer<4,>=2 in /usr/local/lib/python3.11/site-packages (from requests->huggingface-hub>=0.15.1->sentence_transformers) (3.3.2)\n",
      "Requirement already satisfied: idna<4,>=2.5 in /usr/local/lib/python3.11/site-packages (from requests->huggingface-hub>=0.15.1->sentence_transformers) (3.6)\n",
      "Requirement already satisfied: urllib3<3,>=1.21.1 in /usr/local/lib/python3.11/site-packages (from requests->huggingface-hub>=0.15.1->sentence_transformers) (2.2.1)\n",
      "Requirement already satisfied: certifi>=2017.4.17 in /usr/local/lib/python3.11/site-packages (from requests->huggingface-hub>=0.15.1->sentence_transformers) (2024.2.2)\n",
      "Requirement already satisfied: mpmath>=0.19 in /usr/local/lib/python3.11/site-packages (from sympy->torch>=1.11.0->sentence_transformers) (1.3.0)\n",
      "\u001b[33mWARNING: Running pip as the 'root' user can result in broken permissions and conflicting behaviour with the system package manager. It is recommended to use a virtual environment instead: https://pip.pypa.io/warnings/venv\u001b[0m\u001b[33m\n",
      "\u001b[0m"
     ]
    }
   ],
   "source": [
    "!pip install sentence_transformers"
   ]
  },
  {
   "cell_type": "code",
   "execution_count": 75,
   "id": "ee05c03f-2aba-4510-8596-d4b9e9ff9a05",
   "metadata": {},
   "outputs": [
    {
     "name": "stdout",
     "output_type": "stream",
     "text": [
      "Requirement already satisfied: textblob in /usr/local/lib/python3.11/site-packages (0.18.0.post0)\n",
      "Requirement already satisfied: nltk>=3.8 in /usr/local/lib/python3.11/site-packages (from textblob) (3.8.1)\n",
      "Requirement already satisfied: click in /usr/local/lib/python3.11/site-packages (from nltk>=3.8->textblob) (8.1.7)\n",
      "Requirement already satisfied: joblib in /usr/local/lib/python3.11/site-packages (from nltk>=3.8->textblob) (1.4.0)\n",
      "Requirement already satisfied: regex>=2021.8.3 in /usr/local/lib/python3.11/site-packages (from nltk>=3.8->textblob) (2023.12.25)\n",
      "Requirement already satisfied: tqdm in /usr/local/lib/python3.11/site-packages (from nltk>=3.8->textblob) (4.66.2)\n",
      "\u001b[33mWARNING: Running pip as the 'root' user can result in broken permissions and conflicting behaviour with the system package manager. It is recommended to use a virtual environment instead: https://pip.pypa.io/warnings/venv\u001b[0m\u001b[33m\n",
      "\u001b[0mNote: you may need to restart the kernel to use updated packages.\n"
     ]
    }
   ],
   "source": [
    "pip install textblob"
   ]
  },
  {
   "cell_type": "code",
   "execution_count": 76,
   "id": "b5a8f61d-29d6-4842-b5e5-4cc9684903ee",
   "metadata": {},
   "outputs": [
    {
     "name": "stderr",
     "output_type": "stream",
     "text": [
      "[nltk_data] Downloading package averaged_perceptron_tagger to\n",
      "[nltk_data]     /root/nltk_data...\n",
      "[nltk_data]   Package averaged_perceptron_tagger is already up-to-\n",
      "[nltk_data]       date!\n",
      "[nltk_data] Downloading package punkt to /root/nltk_data...\n",
      "[nltk_data]   Package punkt is already up-to-date!\n",
      "[nltk_data] Downloading package wordnet to /root/nltk_data...\n",
      "[nltk_data]   Package wordnet is already up-to-date!\n",
      "[nltk_data] Downloading package omw-1.4 to /root/nltk_data...\n",
      "[nltk_data]   Package omw-1.4 is already up-to-date!\n"
     ]
    },
    {
     "data": {
      "text/html": [
       "<div>\n",
       "<style scoped>\n",
       "    .dataframe tbody tr th:only-of-type {\n",
       "        vertical-align: middle;\n",
       "    }\n",
       "\n",
       "    .dataframe tbody tr th {\n",
       "        vertical-align: top;\n",
       "    }\n",
       "\n",
       "    .dataframe thead th {\n",
       "        text-align: right;\n",
       "    }\n",
       "</style>\n",
       "<table border=\"1\" class=\"dataframe\">\n",
       "  <thead>\n",
       "    <tr style=\"text-align: right;\">\n",
       "      <th></th>\n",
       "      <th>title</th>\n",
       "      <th>date</th>\n",
       "      <th>abstract</th>\n",
       "    </tr>\n",
       "  </thead>\n",
       "  <tbody>\n",
       "    <tr>\n",
       "      <th>0</th>\n",
       "      <td>Effects of scapular treatment on chronic neck ...</td>\n",
       "      <td>2024 Apr 1</td>\n",
       "      <td>Background: Chronic neck pain (CNP) is a commo...</td>\n",
       "    </tr>\n",
       "    <tr>\n",
       "      <th>1</th>\n",
       "      <td>Association between smartphone addiction and m...</td>\n",
       "      <td>2024 Apr 1</td>\n",
       "      <td>Background: The purpose of this study was to c...</td>\n",
       "    </tr>\n",
       "    <tr>\n",
       "      <th>2</th>\n",
       "      <td>Effects of Telerehabilitation Combining Diaphr...</td>\n",
       "      <td>2024 Mar 11</td>\n",
       "      <td>Background: Forward head posture and rounded s...</td>\n",
       "    </tr>\n",
       "    <tr>\n",
       "      <th>3</th>\n",
       "      <td>Effects of Myofascial Release Technique along ...</td>\n",
       "      <td>2024 Mar 4</td>\n",
       "      <td>The purpose of this randomized controlled tria...</td>\n",
       "    </tr>\n",
       "    <tr>\n",
       "      <th>4</th>\n",
       "      <td>Sensory Organization and Postural Control Stra...</td>\n",
       "      <td>2024 Mar 26</td>\n",
       "      <td>Objective: This study aimed to compare sensory...</td>\n",
       "    </tr>\n",
       "    <tr>\n",
       "      <th>...</th>\n",
       "      <td>...</td>\n",
       "      <td>...</td>\n",
       "      <td>...</td>\n",
       "    </tr>\n",
       "    <tr>\n",
       "      <th>1246</th>\n",
       "      <td>Mechanism of production of gait unsteadiness b...</td>\n",
       "      <td>1975 Feb</td>\n",
       "      <td>The hypothesis is put forward that the disturb...</td>\n",
       "    </tr>\n",
       "    <tr>\n",
       "      <th>1247</th>\n",
       "      <td>Effect of forward head inclination on visual o...</td>\n",
       "      <td>1972 Nov</td>\n",
       "      <td></td>\n",
       "    </tr>\n",
       "    <tr>\n",
       "      <th>1248</th>\n",
       "      <td>[The mechanism of elongation of the eye-axis. ...</td>\n",
       "      <td>1972 Aug</td>\n",
       "      <td></td>\n",
       "    </tr>\n",
       "    <tr>\n",
       "      <th>1249</th>\n",
       "      <td>Rheumatoid arthritis--atlanto-axial subluxatio...</td>\n",
       "      <td>1966 Mar 5</td>\n",
       "      <td>The clinical picture, radiological findings an...</td>\n",
       "    </tr>\n",
       "    <tr>\n",
       "      <th>1250</th>\n",
       "      <td>Postural vertigo and positional nystagmus</td>\n",
       "      <td>1952 Dec</td>\n",
       "      <td>Oscillation of the eyes of a patient when the ...</td>\n",
       "    </tr>\n",
       "  </tbody>\n",
       "</table>\n",
       "<p>1251 rows × 3 columns</p>\n",
       "</div>"
      ],
      "text/plain": [
       "                                                  title         date  \\\n",
       "0     Effects of scapular treatment on chronic neck ...   2024 Apr 1   \n",
       "1     Association between smartphone addiction and m...   2024 Apr 1   \n",
       "2     Effects of Telerehabilitation Combining Diaphr...  2024 Mar 11   \n",
       "3     Effects of Myofascial Release Technique along ...   2024 Mar 4   \n",
       "4     Sensory Organization and Postural Control Stra...  2024 Mar 26   \n",
       "...                                                 ...          ...   \n",
       "1246  Mechanism of production of gait unsteadiness b...     1975 Feb   \n",
       "1247  Effect of forward head inclination on visual o...     1972 Nov   \n",
       "1248  [The mechanism of elongation of the eye-axis. ...     1972 Aug   \n",
       "1249  Rheumatoid arthritis--atlanto-axial subluxatio...   1966 Mar 5   \n",
       "1250          Postural vertigo and positional nystagmus     1952 Dec   \n",
       "\n",
       "                                               abstract  \n",
       "0     Background: Chronic neck pain (CNP) is a commo...  \n",
       "1     Background: The purpose of this study was to c...  \n",
       "2     Background: Forward head posture and rounded s...  \n",
       "3     The purpose of this randomized controlled tria...  \n",
       "4     Objective: This study aimed to compare sensory...  \n",
       "...                                                 ...  \n",
       "1246  The hypothesis is put forward that the disturb...  \n",
       "1247                                                     \n",
       "1248                                                     \n",
       "1249  The clinical picture, radiological findings an...  \n",
       "1250  Oscillation of the eyes of a patient when the ...  \n",
       "\n",
       "[1251 rows x 3 columns]"
      ]
     },
     "execution_count": 76,
     "metadata": {},
     "output_type": "execute_result"
    }
   ],
   "source": [
    "import pandas as pd\n",
    "import pymongo\n",
    "import seaborn as sns\n",
    "import numpy as np\n",
    "import matplotlib.pyplot as plt\n",
    "import matplotlib as mpl\n",
    "mpl.rc('font', family='NanumBarunGothic') # 혹은 다른 설치한 Nanum 폰트 사용\n",
    "\n",
    "import nltk\n",
    "from nltk.tokenize import RegexpTokenizer       \n",
    "from nltk.stem.wordnet import WordNetLemmatizer\n",
    "nltk.download('averaged_perceptron_tagger') \n",
    "nltk.download('punkt')\n",
    "nltk.download(\"wordnet\")\n",
    "nltk.download(\"omw-1.4\") \n",
    "\n",
    "FHP_article = pd.read_json('healthcare_project_FHP_article.json')\n",
    "FHP_article = FHP_article.loc[:,'title':]\n",
    "FHP_article"
   ]
  },
  {
   "cell_type": "code",
   "execution_count": 77,
   "id": "8821b30c-1591-45a6-8828-fc1c78ec6149",
   "metadata": {},
   "outputs": [],
   "source": [
    "# from sklearn.feature_extraction.text import CountVectorizer\n",
    "# from sklearn.metrics.pairwise import cosine_similarity\n",
    "# from sentence_transformers import SentenceTransformer"
   ]
  },
  {
   "cell_type": "code",
   "execution_count": 78,
   "id": "05bcef80-5b74-4929-b6e7-8483f2d5af53",
   "metadata": {},
   "outputs": [],
   "source": [
    "def date_year(raw):\n",
    "    date_format = raw.split(\" \")[0]\n",
    "    return date_format\n",
    "def date_month(raw):\n",
    "    if len(raw.split(\" \")) >= 2:\n",
    "        date_format = raw.split(\" \")[1]\n",
    "    else:\n",
    "        date_format = None\n",
    "    return date_format\n",
    "def date_date(raw):\n",
    "    if len(raw.split(\" \")) >= 3:\n",
    "        date_format = raw.split(\" \")[2]\n",
    "    else:\n",
    "        date_format = None\n",
    "    return date_format\n",
    "def word_split(raw,word_list):\n",
    "    word_list.append(raw.split())\n",
    "    return word_list"
   ]
  },
  {
   "cell_type": "code",
   "execution_count": 79,
   "id": "32209220-cfa5-489b-be07-7905b369a4f9",
   "metadata": {},
   "outputs": [],
   "source": [
    "FHP_article.loc[:,'date_year']=FHP_article['date'].apply(date_year)\n",
    "FHP_article.loc[:,'date_month']=FHP_article['date'].apply(date_month)\n",
    "FHP_article.loc[:,'date_date']=FHP_article['date'].apply(date_date)"
   ]
  },
  {
   "cell_type": "markdown",
   "id": "ce054b09-68f4-4ebf-a816-9c7030189d3f",
   "metadata": {},
   "source": [
    "### 특수문자, 숫자, '/n' 제거"
   ]
  },
  {
   "cell_type": "code",
   "execution_count": 80,
   "id": "71d59fbe-282e-40ee-937b-165092070040",
   "metadata": {},
   "outputs": [],
   "source": [
    "import re\n",
    "def word_cleaning(raw):\n",
    "    raw = raw.replace(\"\\n\",\" \")\n",
    "    patterns = '([^ㄱ-ㅎ|ㅏ-ㅣ|가-힣|a-z|A-Z|\\'| ])'\n",
    "    text_regex = re.sub(pattern = patterns, repl = \"\",string=raw)\n",
    "    return text_regex\n"
   ]
  },
  {
   "cell_type": "code",
   "execution_count": 81,
   "id": "43affd5f-1d2b-4fbe-b10a-9fb83f02e8c3",
   "metadata": {},
   "outputs": [],
   "source": [
    "FHP_article.loc[:,'abstract_clean']=FHP_article['abstract'].apply(word_cleaning)"
   ]
  },
  {
   "cell_type": "code",
   "execution_count": 82,
   "id": "9f49a9dd-cf74-41a1-ae0c-0452e919c12f",
   "metadata": {},
   "outputs": [
    {
     "data": {
      "text/html": [
       "<div>\n",
       "<style scoped>\n",
       "    .dataframe tbody tr th:only-of-type {\n",
       "        vertical-align: middle;\n",
       "    }\n",
       "\n",
       "    .dataframe tbody tr th {\n",
       "        vertical-align: top;\n",
       "    }\n",
       "\n",
       "    .dataframe thead th {\n",
       "        text-align: right;\n",
       "    }\n",
       "</style>\n",
       "<table border=\"1\" class=\"dataframe\">\n",
       "  <thead>\n",
       "    <tr style=\"text-align: right;\">\n",
       "      <th></th>\n",
       "      <th>title</th>\n",
       "      <th>date</th>\n",
       "      <th>abstract</th>\n",
       "      <th>date_year</th>\n",
       "      <th>date_month</th>\n",
       "      <th>date_date</th>\n",
       "      <th>abstract_clean</th>\n",
       "    </tr>\n",
       "  </thead>\n",
       "  <tbody>\n",
       "    <tr>\n",
       "      <th>0</th>\n",
       "      <td>Effects of scapular treatment on chronic neck ...</td>\n",
       "      <td>2024 Apr 1</td>\n",
       "      <td>Background: Chronic neck pain (CNP) is a commo...</td>\n",
       "      <td>2024</td>\n",
       "      <td>Apr</td>\n",
       "      <td>1</td>\n",
       "      <td>Background Chronic neck pain CNP is a common p...</td>\n",
       "    </tr>\n",
       "    <tr>\n",
       "      <th>1</th>\n",
       "      <td>Association between smartphone addiction and m...</td>\n",
       "      <td>2024 Apr 1</td>\n",
       "      <td>Background: The purpose of this study was to c...</td>\n",
       "      <td>2024</td>\n",
       "      <td>Apr</td>\n",
       "      <td>1</td>\n",
       "      <td>Background The purpose of this study was to cl...</td>\n",
       "    </tr>\n",
       "    <tr>\n",
       "      <th>2</th>\n",
       "      <td>Effects of Telerehabilitation Combining Diaphr...</td>\n",
       "      <td>2024 Mar 11</td>\n",
       "      <td>Background: Forward head posture and rounded s...</td>\n",
       "      <td>2024</td>\n",
       "      <td>Mar</td>\n",
       "      <td>11</td>\n",
       "      <td>Background Forward head posture and rounded sh...</td>\n",
       "    </tr>\n",
       "    <tr>\n",
       "      <th>3</th>\n",
       "      <td>Effects of Myofascial Release Technique along ...</td>\n",
       "      <td>2024 Mar 4</td>\n",
       "      <td>The purpose of this randomized controlled tria...</td>\n",
       "      <td>2024</td>\n",
       "      <td>Mar</td>\n",
       "      <td>4</td>\n",
       "      <td>The purpose of this randomized controlled tria...</td>\n",
       "    </tr>\n",
       "    <tr>\n",
       "      <th>4</th>\n",
       "      <td>Sensory Organization and Postural Control Stra...</td>\n",
       "      <td>2024 Mar 26</td>\n",
       "      <td>Objective: This study aimed to compare sensory...</td>\n",
       "      <td>2024</td>\n",
       "      <td>Mar</td>\n",
       "      <td>26</td>\n",
       "      <td>Objective This study aimed to compare sensory ...</td>\n",
       "    </tr>\n",
       "    <tr>\n",
       "      <th>...</th>\n",
       "      <td>...</td>\n",
       "      <td>...</td>\n",
       "      <td>...</td>\n",
       "      <td>...</td>\n",
       "      <td>...</td>\n",
       "      <td>...</td>\n",
       "      <td>...</td>\n",
       "    </tr>\n",
       "    <tr>\n",
       "      <th>1246</th>\n",
       "      <td>Mechanism of production of gait unsteadiness b...</td>\n",
       "      <td>1975 Feb</td>\n",
       "      <td>The hypothesis is put forward that the disturb...</td>\n",
       "      <td>1975</td>\n",
       "      <td>Feb</td>\n",
       "      <td>None</td>\n",
       "      <td>The hypothesis is put forward that the disturb...</td>\n",
       "    </tr>\n",
       "    <tr>\n",
       "      <th>1247</th>\n",
       "      <td>Effect of forward head inclination on visual o...</td>\n",
       "      <td>1972 Nov</td>\n",
       "      <td></td>\n",
       "      <td>1972</td>\n",
       "      <td>Nov</td>\n",
       "      <td>None</td>\n",
       "      <td></td>\n",
       "    </tr>\n",
       "    <tr>\n",
       "      <th>1248</th>\n",
       "      <td>[The mechanism of elongation of the eye-axis. ...</td>\n",
       "      <td>1972 Aug</td>\n",
       "      <td></td>\n",
       "      <td>1972</td>\n",
       "      <td>Aug</td>\n",
       "      <td>None</td>\n",
       "      <td></td>\n",
       "    </tr>\n",
       "    <tr>\n",
       "      <th>1249</th>\n",
       "      <td>Rheumatoid arthritis--atlanto-axial subluxatio...</td>\n",
       "      <td>1966 Mar 5</td>\n",
       "      <td>The clinical picture, radiological findings an...</td>\n",
       "      <td>1966</td>\n",
       "      <td>Mar</td>\n",
       "      <td>5</td>\n",
       "      <td>The clinical picture radiological findings and...</td>\n",
       "    </tr>\n",
       "    <tr>\n",
       "      <th>1250</th>\n",
       "      <td>Postural vertigo and positional nystagmus</td>\n",
       "      <td>1952 Dec</td>\n",
       "      <td>Oscillation of the eyes of a patient when the ...</td>\n",
       "      <td>1952</td>\n",
       "      <td>Dec</td>\n",
       "      <td>None</td>\n",
       "      <td>Oscillation of the eyes of a patient when the ...</td>\n",
       "    </tr>\n",
       "  </tbody>\n",
       "</table>\n",
       "<p>1251 rows × 7 columns</p>\n",
       "</div>"
      ],
      "text/plain": [
       "                                                  title         date  \\\n",
       "0     Effects of scapular treatment on chronic neck ...   2024 Apr 1   \n",
       "1     Association between smartphone addiction and m...   2024 Apr 1   \n",
       "2     Effects of Telerehabilitation Combining Diaphr...  2024 Mar 11   \n",
       "3     Effects of Myofascial Release Technique along ...   2024 Mar 4   \n",
       "4     Sensory Organization and Postural Control Stra...  2024 Mar 26   \n",
       "...                                                 ...          ...   \n",
       "1246  Mechanism of production of gait unsteadiness b...     1975 Feb   \n",
       "1247  Effect of forward head inclination on visual o...     1972 Nov   \n",
       "1248  [The mechanism of elongation of the eye-axis. ...     1972 Aug   \n",
       "1249  Rheumatoid arthritis--atlanto-axial subluxatio...   1966 Mar 5   \n",
       "1250          Postural vertigo and positional nystagmus     1952 Dec   \n",
       "\n",
       "                                               abstract date_year date_month  \\\n",
       "0     Background: Chronic neck pain (CNP) is a commo...      2024        Apr   \n",
       "1     Background: The purpose of this study was to c...      2024        Apr   \n",
       "2     Background: Forward head posture and rounded s...      2024        Mar   \n",
       "3     The purpose of this randomized controlled tria...      2024        Mar   \n",
       "4     Objective: This study aimed to compare sensory...      2024        Mar   \n",
       "...                                                 ...       ...        ...   \n",
       "1246  The hypothesis is put forward that the disturb...      1975        Feb   \n",
       "1247                                                         1972        Nov   \n",
       "1248                                                         1972        Aug   \n",
       "1249  The clinical picture, radiological findings an...      1966        Mar   \n",
       "1250  Oscillation of the eyes of a patient when the ...      1952        Dec   \n",
       "\n",
       "     date_date                                     abstract_clean  \n",
       "0            1  Background Chronic neck pain CNP is a common p...  \n",
       "1            1  Background The purpose of this study was to cl...  \n",
       "2           11  Background Forward head posture and rounded sh...  \n",
       "3            4  The purpose of this randomized controlled tria...  \n",
       "4           26  Objective This study aimed to compare sensory ...  \n",
       "...        ...                                                ...  \n",
       "1246      None  The hypothesis is put forward that the disturb...  \n",
       "1247      None                                                     \n",
       "1248      None                                                     \n",
       "1249         5  The clinical picture radiological findings and...  \n",
       "1250      None  Oscillation of the eyes of a patient when the ...  \n",
       "\n",
       "[1251 rows x 7 columns]"
      ]
     },
     "execution_count": 82,
     "metadata": {},
     "output_type": "execute_result"
    }
   ],
   "source": [
    "FHP_article"
   ]
  },
  {
   "cell_type": "markdown",
   "id": "9918aa16-7b60-4515-a281-5c2cafbd9038",
   "metadata": {},
   "source": [
    "### 정규화 : 대소문자 통합"
   ]
  },
  {
   "cell_type": "code",
   "execution_count": 83,
   "id": "b90d4ff2-1b77-4c2b-8121-9042b0ed3d64",
   "metadata": {},
   "outputs": [],
   "source": [
    "def word_lower(raw):\n",
    "    abstract_list = raw.split()\n",
    "    modified_list = []\n",
    "    for abstract_word in abstract_list :\n",
    "         modified_list.append(abstract_word.lower())\n",
    "    return \" \".join(modified_list)\n"
   ]
  },
  {
   "cell_type": "code",
   "execution_count": 84,
   "id": "2d7ff6df-f1c9-4051-9394-316783c12b01",
   "metadata": {},
   "outputs": [],
   "source": [
    "FHP_article.loc[:,'abstract_clean']=FHP_article['abstract_clean'].apply(word_lower)"
   ]
  },
  {
   "cell_type": "code",
   "execution_count": 85,
   "id": "bcf1d077-74c5-4856-b4d0-062f0183c8d2",
   "metadata": {},
   "outputs": [
    {
     "data": {
      "text/html": [
       "<div>\n",
       "<style scoped>\n",
       "    .dataframe tbody tr th:only-of-type {\n",
       "        vertical-align: middle;\n",
       "    }\n",
       "\n",
       "    .dataframe tbody tr th {\n",
       "        vertical-align: top;\n",
       "    }\n",
       "\n",
       "    .dataframe thead th {\n",
       "        text-align: right;\n",
       "    }\n",
       "</style>\n",
       "<table border=\"1\" class=\"dataframe\">\n",
       "  <thead>\n",
       "    <tr style=\"text-align: right;\">\n",
       "      <th></th>\n",
       "      <th>title</th>\n",
       "      <th>date</th>\n",
       "      <th>abstract</th>\n",
       "      <th>date_year</th>\n",
       "      <th>date_month</th>\n",
       "      <th>date_date</th>\n",
       "      <th>abstract_clean</th>\n",
       "    </tr>\n",
       "  </thead>\n",
       "  <tbody>\n",
       "    <tr>\n",
       "      <th>0</th>\n",
       "      <td>Effects of scapular treatment on chronic neck ...</td>\n",
       "      <td>2024 Apr 1</td>\n",
       "      <td>Background: Chronic neck pain (CNP) is a commo...</td>\n",
       "      <td>2024</td>\n",
       "      <td>Apr</td>\n",
       "      <td>1</td>\n",
       "      <td>background chronic neck pain cnp is a common p...</td>\n",
       "    </tr>\n",
       "    <tr>\n",
       "      <th>1</th>\n",
       "      <td>Association between smartphone addiction and m...</td>\n",
       "      <td>2024 Apr 1</td>\n",
       "      <td>Background: The purpose of this study was to c...</td>\n",
       "      <td>2024</td>\n",
       "      <td>Apr</td>\n",
       "      <td>1</td>\n",
       "      <td>background the purpose of this study was to cl...</td>\n",
       "    </tr>\n",
       "    <tr>\n",
       "      <th>2</th>\n",
       "      <td>Effects of Telerehabilitation Combining Diaphr...</td>\n",
       "      <td>2024 Mar 11</td>\n",
       "      <td>Background: Forward head posture and rounded s...</td>\n",
       "      <td>2024</td>\n",
       "      <td>Mar</td>\n",
       "      <td>11</td>\n",
       "      <td>background forward head posture and rounded sh...</td>\n",
       "    </tr>\n",
       "    <tr>\n",
       "      <th>3</th>\n",
       "      <td>Effects of Myofascial Release Technique along ...</td>\n",
       "      <td>2024 Mar 4</td>\n",
       "      <td>The purpose of this randomized controlled tria...</td>\n",
       "      <td>2024</td>\n",
       "      <td>Mar</td>\n",
       "      <td>4</td>\n",
       "      <td>the purpose of this randomized controlled tria...</td>\n",
       "    </tr>\n",
       "    <tr>\n",
       "      <th>4</th>\n",
       "      <td>Sensory Organization and Postural Control Stra...</td>\n",
       "      <td>2024 Mar 26</td>\n",
       "      <td>Objective: This study aimed to compare sensory...</td>\n",
       "      <td>2024</td>\n",
       "      <td>Mar</td>\n",
       "      <td>26</td>\n",
       "      <td>objective this study aimed to compare sensory ...</td>\n",
       "    </tr>\n",
       "    <tr>\n",
       "      <th>...</th>\n",
       "      <td>...</td>\n",
       "      <td>...</td>\n",
       "      <td>...</td>\n",
       "      <td>...</td>\n",
       "      <td>...</td>\n",
       "      <td>...</td>\n",
       "      <td>...</td>\n",
       "    </tr>\n",
       "    <tr>\n",
       "      <th>1246</th>\n",
       "      <td>Mechanism of production of gait unsteadiness b...</td>\n",
       "      <td>1975 Feb</td>\n",
       "      <td>The hypothesis is put forward that the disturb...</td>\n",
       "      <td>1975</td>\n",
       "      <td>Feb</td>\n",
       "      <td>None</td>\n",
       "      <td>the hypothesis is put forward that the disturb...</td>\n",
       "    </tr>\n",
       "    <tr>\n",
       "      <th>1247</th>\n",
       "      <td>Effect of forward head inclination on visual o...</td>\n",
       "      <td>1972 Nov</td>\n",
       "      <td></td>\n",
       "      <td>1972</td>\n",
       "      <td>Nov</td>\n",
       "      <td>None</td>\n",
       "      <td></td>\n",
       "    </tr>\n",
       "    <tr>\n",
       "      <th>1248</th>\n",
       "      <td>[The mechanism of elongation of the eye-axis. ...</td>\n",
       "      <td>1972 Aug</td>\n",
       "      <td></td>\n",
       "      <td>1972</td>\n",
       "      <td>Aug</td>\n",
       "      <td>None</td>\n",
       "      <td></td>\n",
       "    </tr>\n",
       "    <tr>\n",
       "      <th>1249</th>\n",
       "      <td>Rheumatoid arthritis--atlanto-axial subluxatio...</td>\n",
       "      <td>1966 Mar 5</td>\n",
       "      <td>The clinical picture, radiological findings an...</td>\n",
       "      <td>1966</td>\n",
       "      <td>Mar</td>\n",
       "      <td>5</td>\n",
       "      <td>the clinical picture radiological findings and...</td>\n",
       "    </tr>\n",
       "    <tr>\n",
       "      <th>1250</th>\n",
       "      <td>Postural vertigo and positional nystagmus</td>\n",
       "      <td>1952 Dec</td>\n",
       "      <td>Oscillation of the eyes of a patient when the ...</td>\n",
       "      <td>1952</td>\n",
       "      <td>Dec</td>\n",
       "      <td>None</td>\n",
       "      <td>oscillation of the eyes of a patient when the ...</td>\n",
       "    </tr>\n",
       "  </tbody>\n",
       "</table>\n",
       "<p>1251 rows × 7 columns</p>\n",
       "</div>"
      ],
      "text/plain": [
       "                                                  title         date  \\\n",
       "0     Effects of scapular treatment on chronic neck ...   2024 Apr 1   \n",
       "1     Association between smartphone addiction and m...   2024 Apr 1   \n",
       "2     Effects of Telerehabilitation Combining Diaphr...  2024 Mar 11   \n",
       "3     Effects of Myofascial Release Technique along ...   2024 Mar 4   \n",
       "4     Sensory Organization and Postural Control Stra...  2024 Mar 26   \n",
       "...                                                 ...          ...   \n",
       "1246  Mechanism of production of gait unsteadiness b...     1975 Feb   \n",
       "1247  Effect of forward head inclination on visual o...     1972 Nov   \n",
       "1248  [The mechanism of elongation of the eye-axis. ...     1972 Aug   \n",
       "1249  Rheumatoid arthritis--atlanto-axial subluxatio...   1966 Mar 5   \n",
       "1250          Postural vertigo and positional nystagmus     1952 Dec   \n",
       "\n",
       "                                               abstract date_year date_month  \\\n",
       "0     Background: Chronic neck pain (CNP) is a commo...      2024        Apr   \n",
       "1     Background: The purpose of this study was to c...      2024        Apr   \n",
       "2     Background: Forward head posture and rounded s...      2024        Mar   \n",
       "3     The purpose of this randomized controlled tria...      2024        Mar   \n",
       "4     Objective: This study aimed to compare sensory...      2024        Mar   \n",
       "...                                                 ...       ...        ...   \n",
       "1246  The hypothesis is put forward that the disturb...      1975        Feb   \n",
       "1247                                                         1972        Nov   \n",
       "1248                                                         1972        Aug   \n",
       "1249  The clinical picture, radiological findings an...      1966        Mar   \n",
       "1250  Oscillation of the eyes of a patient when the ...      1952        Dec   \n",
       "\n",
       "     date_date                                     abstract_clean  \n",
       "0            1  background chronic neck pain cnp is a common p...  \n",
       "1            1  background the purpose of this study was to cl...  \n",
       "2           11  background forward head posture and rounded sh...  \n",
       "3            4  the purpose of this randomized controlled tria...  \n",
       "4           26  objective this study aimed to compare sensory ...  \n",
       "...        ...                                                ...  \n",
       "1246      None  the hypothesis is put forward that the disturb...  \n",
       "1247      None                                                     \n",
       "1248      None                                                     \n",
       "1249         5  the clinical picture radiological findings and...  \n",
       "1250      None  oscillation of the eyes of a patient when the ...  \n",
       "\n",
       "[1251 rows x 7 columns]"
      ]
     },
     "execution_count": 85,
     "metadata": {},
     "output_type": "execute_result"
    }
   ],
   "source": [
    "FHP_article"
   ]
  },
  {
   "cell_type": "markdown",
   "id": "d63db968-0926-4bad-9ba1-d997ad60cdac",
   "metadata": {},
   "source": [
    "### 단어 토큰화"
   ]
  },
  {
   "cell_type": "code",
   "execution_count": 86,
   "id": "6adf2274-c343-4b85-8f23-ba20b83864eb",
   "metadata": {
    "scrolled": true
   },
   "outputs": [],
   "source": [
    "def word_tokenizing(raw):\n",
    "    tokenizer = RegexpTokenizer(\"[\\s]+\", gaps=True) \n",
    "    tokens = tokenizer.tokenize(raw)\n",
    "    tags = nltk.pos_tag(tokens)\n",
    "    nouns_list = [t[0] for t in tags if t[1] in  ['JJ','JJR','MD','NN','NNP','NNS','PRP','VB','VBD','VBG','VBN','VBP','VBZ','WDT']]\n",
    "    return nouns_list"
   ]
  },
  {
   "cell_type": "code",
   "execution_count": 87,
   "id": "043604f7-8845-4439-8536-af5c79a76e58",
   "metadata": {},
   "outputs": [],
   "source": [
    "FHP_article.loc[:,'abstract_token']=FHP_article['abstract_clean'].apply(word_tokenizing)"
   ]
  },
  {
   "cell_type": "code",
   "execution_count": 88,
   "id": "38a5bb47-6303-4469-9134-dc2a96d07cb9",
   "metadata": {},
   "outputs": [
    {
     "data": {
      "text/plain": [
       "0       [background, chronic, neck, pain, cnp, is, com...\n",
       "1       [purpose, study, was, clarify, relationship, s...\n",
       "2       [background, head, posture, rounded, shoulder,...\n",
       "3       [purpose, randomized, controlled, trial, was, ...\n",
       "4       [objective, study, aimed, compare, sensory, or...\n",
       "                              ...                        \n",
       "1246    [hypothesis, is, put, disturbance, gait, seen,...\n",
       "1247                                                   []\n",
       "1248                                                   []\n",
       "1249    [clinical, picture, radiological, findings, tr...\n",
       "1250    [oscillation, eyes, patient, head, is, placed,...\n",
       "Name: abstract_token, Length: 1251, dtype: object"
      ]
     },
     "execution_count": 88,
     "metadata": {},
     "output_type": "execute_result"
    }
   ],
   "source": [
    "FHP_article['abstract_token']"
   ]
  },
  {
   "cell_type": "markdown",
   "id": "d45b9275-f07f-4b5e-b0c0-3c79a669d9e8",
   "metadata": {},
   "source": [
    "### 표제어 추출"
   ]
  },
  {
   "cell_type": "code",
   "execution_count": 91,
   "id": "3513e800-adb4-4a7f-bb91-d82271c36be9",
   "metadata": {},
   "outputs": [],
   "source": [
    "def Lemmatization(raw):\n",
    "    lemmatizer = WordNetLemmatizer()\n",
    "    lemmatized_list = []\n",
    "    for word in raw:\n",
    "        lemmatized_word = lemmatizer.lemmatize(word)\n",
    "        lemmatized_list.append(lemmatized_word)\n",
    "    return lemmatized_list"
   ]
  },
  {
   "cell_type": "code",
   "execution_count": 92,
   "id": "f63b44c8-5b2b-49f8-83e8-b3e410b69720",
   "metadata": {},
   "outputs": [],
   "source": [
    "FHP_article.loc[:,'abstract_token']=FHP_article['abstract_token'].apply(Lemmatization)"
   ]
  },
  {
   "cell_type": "code",
   "execution_count": 93,
   "id": "5b3759d6-c326-4cc4-91f5-c2dd0727d82b",
   "metadata": {},
   "outputs": [
    {
     "data": {
      "text/plain": [
       "0       [background, chronic, neck, pain, cnp, is, com...\n",
       "1       [purpose, study, wa, clarify, relationship, sm...\n",
       "2       [background, head, posture, rounded, shoulder,...\n",
       "3       [purpose, randomized, controlled, trial, wa, e...\n",
       "4       [objective, study, aimed, compare, sensory, or...\n",
       "                              ...                        \n",
       "1246    [hypothesis, is, put, disturbance, gait, seen,...\n",
       "1247                                                   []\n",
       "1248                                                   []\n",
       "1249    [clinical, picture, radiological, finding, tre...\n",
       "1250    [oscillation, eye, patient, head, is, placed, ...\n",
       "Name: abstract_token, Length: 1251, dtype: object"
      ]
     },
     "execution_count": 93,
     "metadata": {},
     "output_type": "execute_result"
    }
   ],
   "source": [
    "FHP_article.loc[:,'abstract_token']"
   ]
  },
  {
   "cell_type": "markdown",
   "id": "849a23e6-d314-4189-9913-d1cf4ae2de2f",
   "metadata": {},
   "source": [
    "### 표제어 추출"
   ]
  },
  {
   "cell_type": "code",
   "execution_count": null,
   "id": "eb1c204d-94dc-4cb0-9d3f-63da7846b9de",
   "metadata": {},
   "outputs": [],
   "source": [
    "from sklearn.model_selection import train_test_split\n",
    "FHP_article_train,FHP_article_test = train_test_split(FHP_article,test_size=0.4,random_state=42)"
   ]
  },
  {
   "cell_type": "code",
   "execution_count": null,
   "id": "c99ac9a1-1183-4b65-aad4-63a94b502a98",
   "metadata": {},
   "outputs": [],
   "source": [
    "FHP_article_train"
   ]
  },
  {
   "cell_type": "code",
   "execution_count": null,
   "id": "de9a34af-d190-47c4-a7e2-bbd7779651e3",
   "metadata": {},
   "outputs": [],
   "source": []
  }
 ],
 "metadata": {
  "kernelspec": {
   "display_name": "Python 3 (ipykernel)",
   "language": "python",
   "name": "python3"
  },
  "language_info": {
   "codemirror_mode": {
    "name": "ipython",
    "version": 3
   },
   "file_extension": ".py",
   "mimetype": "text/x-python",
   "name": "python",
   "nbconvert_exporter": "python",
   "pygments_lexer": "ipython3",
   "version": "3.11.9"
  }
 },
 "nbformat": 4,
 "nbformat_minor": 5
}
