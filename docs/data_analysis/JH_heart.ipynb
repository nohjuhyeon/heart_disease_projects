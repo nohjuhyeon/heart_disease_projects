{
 "cells": [
  {
   "cell_type": "markdown",
   "id": "237dc254-0790-4ebb-82a8-d3215615dadd",
   "metadata": {},
   "source": [
    "## 데이터 불러오기"
   ]
  },
  {
   "cell_type": "code",
   "execution_count": 1466,
   "id": "f17d1776-b78c-401d-bda9-0b3b1b4dc719",
   "metadata": {},
   "outputs": [
    {
     "data": {
      "text/html": [
       "<div>\n",
       "<style scoped>\n",
       "    .dataframe tbody tr th:only-of-type {\n",
       "        vertical-align: middle;\n",
       "    }\n",
       "\n",
       "    .dataframe tbody tr th {\n",
       "        vertical-align: top;\n",
       "    }\n",
       "\n",
       "    .dataframe thead th {\n",
       "        text-align: right;\n",
       "    }\n",
       "</style>\n",
       "<table border=\"1\" class=\"dataframe\">\n",
       "  <thead>\n",
       "    <tr style=\"text-align: right;\">\n",
       "      <th></th>\n",
       "      <th>HeartDisease</th>\n",
       "      <th>BMI</th>\n",
       "      <th>Smoking</th>\n",
       "      <th>AlcoholDrinking</th>\n",
       "      <th>Stroke</th>\n",
       "      <th>PhysicalHealth</th>\n",
       "      <th>MentalHealth</th>\n",
       "      <th>DiffWalking</th>\n",
       "      <th>Sex</th>\n",
       "      <th>AgeCategory</th>\n",
       "      <th>Race</th>\n",
       "      <th>Diabetic</th>\n",
       "      <th>PhysicalActivity</th>\n",
       "      <th>GenHealth</th>\n",
       "      <th>SleepTime</th>\n",
       "      <th>Asthma</th>\n",
       "      <th>KidneyDisease</th>\n",
       "      <th>SkinCancer</th>\n",
       "    </tr>\n",
       "  </thead>\n",
       "  <tbody>\n",
       "    <tr>\n",
       "      <th>0</th>\n",
       "      <td>No</td>\n",
       "      <td>16.60</td>\n",
       "      <td>Yes</td>\n",
       "      <td>No</td>\n",
       "      <td>No</td>\n",
       "      <td>3.0</td>\n",
       "      <td>30.0</td>\n",
       "      <td>No</td>\n",
       "      <td>Female</td>\n",
       "      <td>55-59</td>\n",
       "      <td>White</td>\n",
       "      <td>Yes</td>\n",
       "      <td>Yes</td>\n",
       "      <td>Very good</td>\n",
       "      <td>5.0</td>\n",
       "      <td>Yes</td>\n",
       "      <td>No</td>\n",
       "      <td>Yes</td>\n",
       "    </tr>\n",
       "    <tr>\n",
       "      <th>1</th>\n",
       "      <td>No</td>\n",
       "      <td>20.34</td>\n",
       "      <td>No</td>\n",
       "      <td>No</td>\n",
       "      <td>Yes</td>\n",
       "      <td>0.0</td>\n",
       "      <td>0.0</td>\n",
       "      <td>No</td>\n",
       "      <td>Female</td>\n",
       "      <td>80 or older</td>\n",
       "      <td>White</td>\n",
       "      <td>No</td>\n",
       "      <td>Yes</td>\n",
       "      <td>Very good</td>\n",
       "      <td>7.0</td>\n",
       "      <td>No</td>\n",
       "      <td>No</td>\n",
       "      <td>No</td>\n",
       "    </tr>\n",
       "    <tr>\n",
       "      <th>2</th>\n",
       "      <td>No</td>\n",
       "      <td>26.58</td>\n",
       "      <td>Yes</td>\n",
       "      <td>No</td>\n",
       "      <td>No</td>\n",
       "      <td>20.0</td>\n",
       "      <td>30.0</td>\n",
       "      <td>No</td>\n",
       "      <td>Male</td>\n",
       "      <td>65-69</td>\n",
       "      <td>White</td>\n",
       "      <td>Yes</td>\n",
       "      <td>Yes</td>\n",
       "      <td>Fair</td>\n",
       "      <td>8.0</td>\n",
       "      <td>Yes</td>\n",
       "      <td>No</td>\n",
       "      <td>No</td>\n",
       "    </tr>\n",
       "    <tr>\n",
       "      <th>3</th>\n",
       "      <td>No</td>\n",
       "      <td>24.21</td>\n",
       "      <td>No</td>\n",
       "      <td>No</td>\n",
       "      <td>No</td>\n",
       "      <td>0.0</td>\n",
       "      <td>0.0</td>\n",
       "      <td>No</td>\n",
       "      <td>Female</td>\n",
       "      <td>75-79</td>\n",
       "      <td>White</td>\n",
       "      <td>No</td>\n",
       "      <td>No</td>\n",
       "      <td>Good</td>\n",
       "      <td>6.0</td>\n",
       "      <td>No</td>\n",
       "      <td>No</td>\n",
       "      <td>Yes</td>\n",
       "    </tr>\n",
       "    <tr>\n",
       "      <th>4</th>\n",
       "      <td>No</td>\n",
       "      <td>23.71</td>\n",
       "      <td>No</td>\n",
       "      <td>No</td>\n",
       "      <td>No</td>\n",
       "      <td>28.0</td>\n",
       "      <td>0.0</td>\n",
       "      <td>Yes</td>\n",
       "      <td>Female</td>\n",
       "      <td>40-44</td>\n",
       "      <td>White</td>\n",
       "      <td>No</td>\n",
       "      <td>Yes</td>\n",
       "      <td>Very good</td>\n",
       "      <td>8.0</td>\n",
       "      <td>No</td>\n",
       "      <td>No</td>\n",
       "      <td>No</td>\n",
       "    </tr>\n",
       "    <tr>\n",
       "      <th>...</th>\n",
       "      <td>...</td>\n",
       "      <td>...</td>\n",
       "      <td>...</td>\n",
       "      <td>...</td>\n",
       "      <td>...</td>\n",
       "      <td>...</td>\n",
       "      <td>...</td>\n",
       "      <td>...</td>\n",
       "      <td>...</td>\n",
       "      <td>...</td>\n",
       "      <td>...</td>\n",
       "      <td>...</td>\n",
       "      <td>...</td>\n",
       "      <td>...</td>\n",
       "      <td>...</td>\n",
       "      <td>...</td>\n",
       "      <td>...</td>\n",
       "      <td>...</td>\n",
       "    </tr>\n",
       "    <tr>\n",
       "      <th>319790</th>\n",
       "      <td>Yes</td>\n",
       "      <td>27.41</td>\n",
       "      <td>Yes</td>\n",
       "      <td>No</td>\n",
       "      <td>No</td>\n",
       "      <td>7.0</td>\n",
       "      <td>0.0</td>\n",
       "      <td>Yes</td>\n",
       "      <td>Male</td>\n",
       "      <td>60-64</td>\n",
       "      <td>Hispanic</td>\n",
       "      <td>Yes</td>\n",
       "      <td>No</td>\n",
       "      <td>Fair</td>\n",
       "      <td>6.0</td>\n",
       "      <td>Yes</td>\n",
       "      <td>No</td>\n",
       "      <td>No</td>\n",
       "    </tr>\n",
       "    <tr>\n",
       "      <th>319791</th>\n",
       "      <td>No</td>\n",
       "      <td>29.84</td>\n",
       "      <td>Yes</td>\n",
       "      <td>No</td>\n",
       "      <td>No</td>\n",
       "      <td>0.0</td>\n",
       "      <td>0.0</td>\n",
       "      <td>No</td>\n",
       "      <td>Male</td>\n",
       "      <td>35-39</td>\n",
       "      <td>Hispanic</td>\n",
       "      <td>No</td>\n",
       "      <td>Yes</td>\n",
       "      <td>Very good</td>\n",
       "      <td>5.0</td>\n",
       "      <td>Yes</td>\n",
       "      <td>No</td>\n",
       "      <td>No</td>\n",
       "    </tr>\n",
       "    <tr>\n",
       "      <th>319792</th>\n",
       "      <td>No</td>\n",
       "      <td>24.24</td>\n",
       "      <td>No</td>\n",
       "      <td>No</td>\n",
       "      <td>No</td>\n",
       "      <td>0.0</td>\n",
       "      <td>0.0</td>\n",
       "      <td>No</td>\n",
       "      <td>Female</td>\n",
       "      <td>45-49</td>\n",
       "      <td>Hispanic</td>\n",
       "      <td>No</td>\n",
       "      <td>Yes</td>\n",
       "      <td>Good</td>\n",
       "      <td>6.0</td>\n",
       "      <td>No</td>\n",
       "      <td>No</td>\n",
       "      <td>No</td>\n",
       "    </tr>\n",
       "    <tr>\n",
       "      <th>319793</th>\n",
       "      <td>No</td>\n",
       "      <td>32.81</td>\n",
       "      <td>No</td>\n",
       "      <td>No</td>\n",
       "      <td>No</td>\n",
       "      <td>0.0</td>\n",
       "      <td>0.0</td>\n",
       "      <td>No</td>\n",
       "      <td>Female</td>\n",
       "      <td>25-29</td>\n",
       "      <td>Hispanic</td>\n",
       "      <td>No</td>\n",
       "      <td>No</td>\n",
       "      <td>Good</td>\n",
       "      <td>12.0</td>\n",
       "      <td>No</td>\n",
       "      <td>No</td>\n",
       "      <td>No</td>\n",
       "    </tr>\n",
       "    <tr>\n",
       "      <th>319794</th>\n",
       "      <td>No</td>\n",
       "      <td>46.56</td>\n",
       "      <td>No</td>\n",
       "      <td>No</td>\n",
       "      <td>No</td>\n",
       "      <td>0.0</td>\n",
       "      <td>0.0</td>\n",
       "      <td>No</td>\n",
       "      <td>Female</td>\n",
       "      <td>80 or older</td>\n",
       "      <td>Hispanic</td>\n",
       "      <td>No</td>\n",
       "      <td>Yes</td>\n",
       "      <td>Good</td>\n",
       "      <td>8.0</td>\n",
       "      <td>No</td>\n",
       "      <td>No</td>\n",
       "      <td>No</td>\n",
       "    </tr>\n",
       "  </tbody>\n",
       "</table>\n",
       "<p>319795 rows × 18 columns</p>\n",
       "</div>"
      ],
      "text/plain": [
       "       HeartDisease    BMI Smoking AlcoholDrinking Stroke  PhysicalHealth  \\\n",
       "0                No  16.60     Yes              No     No             3.0   \n",
       "1                No  20.34      No              No    Yes             0.0   \n",
       "2                No  26.58     Yes              No     No            20.0   \n",
       "3                No  24.21      No              No     No             0.0   \n",
       "4                No  23.71      No              No     No            28.0   \n",
       "...             ...    ...     ...             ...    ...             ...   \n",
       "319790          Yes  27.41     Yes              No     No             7.0   \n",
       "319791           No  29.84     Yes              No     No             0.0   \n",
       "319792           No  24.24      No              No     No             0.0   \n",
       "319793           No  32.81      No              No     No             0.0   \n",
       "319794           No  46.56      No              No     No             0.0   \n",
       "\n",
       "        MentalHealth DiffWalking     Sex  AgeCategory      Race Diabetic  \\\n",
       "0               30.0          No  Female        55-59     White      Yes   \n",
       "1                0.0          No  Female  80 or older     White       No   \n",
       "2               30.0          No    Male        65-69     White      Yes   \n",
       "3                0.0          No  Female        75-79     White       No   \n",
       "4                0.0         Yes  Female        40-44     White       No   \n",
       "...              ...         ...     ...          ...       ...      ...   \n",
       "319790           0.0         Yes    Male        60-64  Hispanic      Yes   \n",
       "319791           0.0          No    Male        35-39  Hispanic       No   \n",
       "319792           0.0          No  Female        45-49  Hispanic       No   \n",
       "319793           0.0          No  Female        25-29  Hispanic       No   \n",
       "319794           0.0          No  Female  80 or older  Hispanic       No   \n",
       "\n",
       "       PhysicalActivity  GenHealth  SleepTime Asthma KidneyDisease SkinCancer  \n",
       "0                   Yes  Very good        5.0    Yes            No        Yes  \n",
       "1                   Yes  Very good        7.0     No            No         No  \n",
       "2                   Yes       Fair        8.0    Yes            No         No  \n",
       "3                    No       Good        6.0     No            No        Yes  \n",
       "4                   Yes  Very good        8.0     No            No         No  \n",
       "...                 ...        ...        ...    ...           ...        ...  \n",
       "319790               No       Fair        6.0    Yes            No         No  \n",
       "319791              Yes  Very good        5.0    Yes            No         No  \n",
       "319792              Yes       Good        6.0     No            No         No  \n",
       "319793               No       Good       12.0     No            No         No  \n",
       "319794              Yes       Good        8.0     No            No         No  \n",
       "\n",
       "[319795 rows x 18 columns]"
      ]
     },
     "execution_count": 1466,
     "metadata": {},
     "output_type": "execute_result"
    }
   ],
   "source": [
    "import pandas as pd\n",
    "from sklearn import cluster\n",
    "import seaborn as sns\n",
    "df_heart = pd.read_csv(\"../data/heart_2020_cleaned.csv\")\n",
    "df_heart"
   ]
  },
  {
   "cell_type": "code",
   "execution_count": 1467,
   "id": "b66a8f14-9beb-4679-a90a-2cd8db40d11c",
   "metadata": {},
   "outputs": [
    {
     "data": {
      "text/plain": [
       "Index(['HeartDisease', 'BMI', 'Smoking', 'AlcoholDrinking', 'Stroke',\n",
       "       'PhysicalHealth', 'MentalHealth', 'DiffWalking', 'Sex', 'AgeCategory',\n",
       "       'Race', 'Diabetic', 'PhysicalActivity', 'GenHealth', 'SleepTime',\n",
       "       'Asthma', 'KidneyDisease', 'SkinCancer'],\n",
       "      dtype='object')"
      ]
     },
     "execution_count": 1467,
     "metadata": {},
     "output_type": "execute_result"
    }
   ],
   "source": [
    "df_heart.columns\n",
    "# 'HeartDisease' : 심장병 유무\n",
    "# 'BMI' : BMI 수치\n",
    "# 'Smoking' : 흡연 여부\n",
    "# 'AlcoholDrinking' : 음주 여부\n",
    "# 'Stroke' : 뇌졸중 여부\n",
    "# 'PhysicalHealth' : 신체적으로 건강하지 않았던 날 /한달\n",
    "# 'MentalHealth' : 정신적으로 건강하지 않았던 날 /한달\n",
    "# 'DiffWalking' : 보행 문제 여부\n",
    "# 'Sex' : 성별\n",
    "# 'AgeCategory' : 연령대\n",
    "# 'Race' : 인종\n",
    "# 'Diabetic' : 당뇨병 여부\n",
    "# 'PhysicalActivity' : 30일 동안 신체활동 여부\n",
    "#'GenHealth' : 주관적 건강 상태\n",
    "#'SleepTime' : 평균 수면 시간\n",
    "#'Asthma' : 천식\n",
    "#'KidneyDisease' : 신장 질환\n",
    "#'SkinCancer' : 피부암"
   ]
  },
  {
   "cell_type": "code",
   "execution_count": 1468,
   "id": "dde7f4c3-6d56-4110-8cda-eb2757500dfe",
   "metadata": {},
   "outputs": [
    {
     "data": {
      "text/html": [
       "<div>\n",
       "<style scoped>\n",
       "    .dataframe tbody tr th:only-of-type {\n",
       "        vertical-align: middle;\n",
       "    }\n",
       "\n",
       "    .dataframe tbody tr th {\n",
       "        vertical-align: top;\n",
       "    }\n",
       "\n",
       "    .dataframe thead th {\n",
       "        text-align: right;\n",
       "    }\n",
       "</style>\n",
       "<table border=\"1\" class=\"dataframe\">\n",
       "  <thead>\n",
       "    <tr style=\"text-align: right;\">\n",
       "      <th></th>\n",
       "      <th>BMI</th>\n",
       "      <th>PhysicalHealth</th>\n",
       "      <th>MentalHealth</th>\n",
       "      <th>SleepTime</th>\n",
       "    </tr>\n",
       "  </thead>\n",
       "  <tbody>\n",
       "    <tr>\n",
       "      <th>count</th>\n",
       "      <td>319795.000000</td>\n",
       "      <td>319795.00000</td>\n",
       "      <td>319795.000000</td>\n",
       "      <td>319795.000000</td>\n",
       "    </tr>\n",
       "    <tr>\n",
       "      <th>mean</th>\n",
       "      <td>28.325399</td>\n",
       "      <td>3.37171</td>\n",
       "      <td>3.898366</td>\n",
       "      <td>7.097075</td>\n",
       "    </tr>\n",
       "    <tr>\n",
       "      <th>std</th>\n",
       "      <td>6.356100</td>\n",
       "      <td>7.95085</td>\n",
       "      <td>7.955235</td>\n",
       "      <td>1.436007</td>\n",
       "    </tr>\n",
       "    <tr>\n",
       "      <th>min</th>\n",
       "      <td>12.020000</td>\n",
       "      <td>0.00000</td>\n",
       "      <td>0.000000</td>\n",
       "      <td>1.000000</td>\n",
       "    </tr>\n",
       "    <tr>\n",
       "      <th>25%</th>\n",
       "      <td>24.030000</td>\n",
       "      <td>0.00000</td>\n",
       "      <td>0.000000</td>\n",
       "      <td>6.000000</td>\n",
       "    </tr>\n",
       "    <tr>\n",
       "      <th>50%</th>\n",
       "      <td>27.340000</td>\n",
       "      <td>0.00000</td>\n",
       "      <td>0.000000</td>\n",
       "      <td>7.000000</td>\n",
       "    </tr>\n",
       "    <tr>\n",
       "      <th>75%</th>\n",
       "      <td>31.420000</td>\n",
       "      <td>2.00000</td>\n",
       "      <td>3.000000</td>\n",
       "      <td>8.000000</td>\n",
       "    </tr>\n",
       "    <tr>\n",
       "      <th>max</th>\n",
       "      <td>94.850000</td>\n",
       "      <td>30.00000</td>\n",
       "      <td>30.000000</td>\n",
       "      <td>24.000000</td>\n",
       "    </tr>\n",
       "  </tbody>\n",
       "</table>\n",
       "</div>"
      ],
      "text/plain": [
       "                 BMI  PhysicalHealth   MentalHealth      SleepTime\n",
       "count  319795.000000    319795.00000  319795.000000  319795.000000\n",
       "mean       28.325399         3.37171       3.898366       7.097075\n",
       "std         6.356100         7.95085       7.955235       1.436007\n",
       "min        12.020000         0.00000       0.000000       1.000000\n",
       "25%        24.030000         0.00000       0.000000       6.000000\n",
       "50%        27.340000         0.00000       0.000000       7.000000\n",
       "75%        31.420000         2.00000       3.000000       8.000000\n",
       "max        94.850000        30.00000      30.000000      24.000000"
      ]
     },
     "execution_count": 1468,
     "metadata": {},
     "output_type": "execute_result"
    }
   ],
   "source": [
    "df_heart.describe()"
   ]
  },
  {
   "cell_type": "code",
   "execution_count": 1469,
   "id": "b683fb4e-7057-411e-8ed2-42fef9852dff",
   "metadata": {},
   "outputs": [
    {
     "data": {
      "text/html": [
       "<div>\n",
       "<style scoped>\n",
       "    .dataframe tbody tr th:only-of-type {\n",
       "        vertical-align: middle;\n",
       "    }\n",
       "\n",
       "    .dataframe tbody tr th {\n",
       "        vertical-align: top;\n",
       "    }\n",
       "\n",
       "    .dataframe thead th {\n",
       "        text-align: right;\n",
       "    }\n",
       "</style>\n",
       "<table border=\"1\" class=\"dataframe\">\n",
       "  <thead>\n",
       "    <tr style=\"text-align: right;\">\n",
       "      <th></th>\n",
       "      <th>HeartDisease</th>\n",
       "      <th>Smoking</th>\n",
       "      <th>AlcoholDrinking</th>\n",
       "      <th>Stroke</th>\n",
       "      <th>DiffWalking</th>\n",
       "      <th>Sex</th>\n",
       "      <th>AgeCategory</th>\n",
       "      <th>Race</th>\n",
       "      <th>Diabetic</th>\n",
       "      <th>PhysicalActivity</th>\n",
       "      <th>GenHealth</th>\n",
       "      <th>Asthma</th>\n",
       "      <th>KidneyDisease</th>\n",
       "      <th>SkinCancer</th>\n",
       "    </tr>\n",
       "  </thead>\n",
       "  <tbody>\n",
       "    <tr>\n",
       "      <th>count</th>\n",
       "      <td>319795</td>\n",
       "      <td>319795</td>\n",
       "      <td>319795</td>\n",
       "      <td>319795</td>\n",
       "      <td>319795</td>\n",
       "      <td>319795</td>\n",
       "      <td>319795</td>\n",
       "      <td>319795</td>\n",
       "      <td>319795</td>\n",
       "      <td>319795</td>\n",
       "      <td>319795</td>\n",
       "      <td>319795</td>\n",
       "      <td>319795</td>\n",
       "      <td>319795</td>\n",
       "    </tr>\n",
       "    <tr>\n",
       "      <th>unique</th>\n",
       "      <td>2</td>\n",
       "      <td>2</td>\n",
       "      <td>2</td>\n",
       "      <td>2</td>\n",
       "      <td>2</td>\n",
       "      <td>2</td>\n",
       "      <td>13</td>\n",
       "      <td>6</td>\n",
       "      <td>4</td>\n",
       "      <td>2</td>\n",
       "      <td>5</td>\n",
       "      <td>2</td>\n",
       "      <td>2</td>\n",
       "      <td>2</td>\n",
       "    </tr>\n",
       "    <tr>\n",
       "      <th>top</th>\n",
       "      <td>No</td>\n",
       "      <td>No</td>\n",
       "      <td>No</td>\n",
       "      <td>No</td>\n",
       "      <td>No</td>\n",
       "      <td>Female</td>\n",
       "      <td>65-69</td>\n",
       "      <td>White</td>\n",
       "      <td>No</td>\n",
       "      <td>Yes</td>\n",
       "      <td>Very good</td>\n",
       "      <td>No</td>\n",
       "      <td>No</td>\n",
       "      <td>No</td>\n",
       "    </tr>\n",
       "    <tr>\n",
       "      <th>freq</th>\n",
       "      <td>292422</td>\n",
       "      <td>187887</td>\n",
       "      <td>298018</td>\n",
       "      <td>307726</td>\n",
       "      <td>275385</td>\n",
       "      <td>167805</td>\n",
       "      <td>34151</td>\n",
       "      <td>245212</td>\n",
       "      <td>269653</td>\n",
       "      <td>247957</td>\n",
       "      <td>113858</td>\n",
       "      <td>276923</td>\n",
       "      <td>308016</td>\n",
       "      <td>289976</td>\n",
       "    </tr>\n",
       "  </tbody>\n",
       "</table>\n",
       "</div>"
      ],
      "text/plain": [
       "       HeartDisease Smoking AlcoholDrinking  Stroke DiffWalking     Sex  \\\n",
       "count        319795  319795          319795  319795      319795  319795   \n",
       "unique            2       2               2       2           2       2   \n",
       "top              No      No              No      No          No  Female   \n",
       "freq         292422  187887          298018  307726      275385  167805   \n",
       "\n",
       "       AgeCategory    Race Diabetic PhysicalActivity  GenHealth  Asthma  \\\n",
       "count       319795  319795   319795           319795     319795  319795   \n",
       "unique          13       6        4                2          5       2   \n",
       "top          65-69   White       No              Yes  Very good      No   \n",
       "freq         34151  245212   269653           247957     113858  276923   \n",
       "\n",
       "       KidneyDisease SkinCancer  \n",
       "count         319795     319795  \n",
       "unique             2          2  \n",
       "top               No         No  \n",
       "freq          308016     289976  "
      ]
     },
     "execution_count": 1469,
     "metadata": {},
     "output_type": "execute_result"
    }
   ],
   "source": [
    "df_heart.describe(include='object')"
   ]
  },
  {
   "cell_type": "markdown",
   "id": "c2bb2857-6d3f-4f8e-9e16-3189d2096b50",
   "metadata": {},
   "source": [
    "## 데이터 전처리"
   ]
  },
  {
   "cell_type": "markdown",
   "id": "8d95d5c9-d483-48ea-a79d-d41621292260",
   "metadata": {},
   "source": [
    "### 결측치 확인"
   ]
  },
  {
   "cell_type": "code",
   "execution_count": 1470,
   "id": "91116e99-e2b0-403e-8c96-908850f82fd1",
   "metadata": {},
   "outputs": [
    {
     "data": {
      "text/plain": [
       "HeartDisease        0\n",
       "BMI                 0\n",
       "Smoking             0\n",
       "AlcoholDrinking     0\n",
       "Stroke              0\n",
       "PhysicalHealth      0\n",
       "MentalHealth        0\n",
       "DiffWalking         0\n",
       "Sex                 0\n",
       "AgeCategory         0\n",
       "Race                0\n",
       "Diabetic            0\n",
       "PhysicalActivity    0\n",
       "GenHealth           0\n",
       "SleepTime           0\n",
       "Asthma              0\n",
       "KidneyDisease       0\n",
       "SkinCancer          0\n",
       "dtype: int64"
      ]
     },
     "execution_count": 1470,
     "metadata": {},
     "output_type": "execute_result"
    }
   ],
   "source": [
    "df_heart.isnull().sum()"
   ]
  },
  {
   "cell_type": "markdown",
   "id": "8c33092d-8026-4714-884d-56e064a6237b",
   "metadata": {},
   "source": [
    "### 이상치 확인 :BMI, PhysicalHealth, MentalHealth,SleepTime\n",
    "- BMI의 경우 비정상적으로 수치가 높은 값을 제거해도 전체적인 분포도에 변화가 없기 때문에 이상치 제거 선택\n",
    "- Physical Helath, MentalHealth 는 X"
   ]
  },
  {
   "cell_type": "markdown",
   "id": "5d5c18bb-d98e-458a-8c05-5634f5f60730",
   "metadata": {},
   "source": [
    "#### BMI"
   ]
  },
  {
   "cell_type": "code",
   "execution_count": 1471,
   "id": "af43adc4-9a55-46e3-bd5e-f39446dd8ed8",
   "metadata": {},
   "outputs": [
    {
     "data": {
      "text/plain": [
       "126896    94.85\n",
       "242834    94.66\n",
       "104267    93.97\n",
       "249715    93.86\n",
       "156093    92.53\n",
       "          ...  \n",
       "81754     12.16\n",
       "51637     12.13\n",
       "113373    12.08\n",
       "69662     12.02\n",
       "205511    12.02\n",
       "Name: BMI, Length: 319795, dtype: float64"
      ]
     },
     "execution_count": 1471,
     "metadata": {},
     "output_type": "execute_result"
    }
   ],
   "source": [
    "df_heart[\"BMI\"].sort_values(ascending=False)"
   ]
  },
  {
   "cell_type": "code",
   "execution_count": 1472,
   "id": "57ffd119-5868-4792-a359-f88927ac775e",
   "metadata": {},
   "outputs": [
    {
     "data": {
      "text/plain": [
       "<Axes: ylabel='BMI'>"
      ]
     },
     "execution_count": 1472,
     "metadata": {},
     "output_type": "execute_result"
    },
    {
     "data": {
      "image/png": "[encoded data removed]",
      "text/plain": [
       "<Figure size 640x480 with 1 Axes>"
      ]
     },
     "metadata": {},
     "output_type": "display_data"
    }
   ],
   "source": [
    "sns.boxplot(df_heart[\"BMI\"])"
   ]
  },
  {
   "cell_type": "code",
   "execution_count": 1473,
   "id": "0bc23ccc-427b-431a-851c-8191226a9044",
   "metadata": {},
   "outputs": [
    {
     "data": {
      "text/plain": [
       "HeartDisease        0.914405\n",
       "Smoking             0.587523\n",
       "AlcoholDrinking     0.931903\n",
       "Stroke               0.96226\n",
       "DiffWalking          0.86113\n",
       "Sex                 0.524727\n",
       "AgeCategory          0.10679\n",
       "Race                0.766779\n",
       "Diabetic            0.843206\n",
       "PhysicalActivity    0.775362\n",
       "GenHealth           0.356034\n",
       "Asthma              0.865939\n",
       "KidneyDisease       0.963167\n",
       "SkinCancer          0.906756\n",
       "dtype: object"
      ]
     },
     "execution_count": 1473,
     "metadata": {},
     "output_type": "execute_result"
    }
   ],
   "source": [
    "# BMI 이상치 제거 전 범주형 데이터 분포도\n",
    "df_heart.describe(include='object').loc['freq',:]/df_heart.describe(include='object').loc['count',:]"
   ]
  },
  {
   "cell_type": "code",
   "execution_count": 1474,
   "id": "e238a3f8-2151-4578-83b6-6295dc4069b5",
   "metadata": {},
   "outputs": [
    {
     "data": {
      "text/plain": [
       "HeartDisease        0.914451\n",
       "Smoking             0.587517\n",
       "AlcoholDrinking     0.931895\n",
       "Stroke              0.962287\n",
       "DiffWalking         0.861743\n",
       "Sex                 0.524539\n",
       "AgeCategory         0.106867\n",
       "Race                0.767108\n",
       "Diabetic            0.843522\n",
       "PhysicalActivity    0.775777\n",
       "GenHealth           0.356408\n",
       "Asthma              0.866212\n",
       "KidneyDisease       0.963245\n",
       "SkinCancer          0.906665\n",
       "dtype: object"
      ]
     },
     "execution_count": 1474,
     "metadata": {},
     "output_type": "execute_result"
    }
   ],
   "source": [
    "# BMI 이상치 제거 후 범주형 데이터 분포도\n",
    "df_heart.query(\"BMI<=60\").describe(include='object').loc['freq',:]/df_heart.query(\"BMI<=60\").describe(include='object').loc['count',:]"
   ]
  },
  {
   "cell_type": "code",
   "execution_count": 1475,
   "id": "f6ff3faf-ba3e-4142-badf-9a3deeebc382",
   "metadata": {},
   "outputs": [
    {
     "data": {
      "text/html": [
       "<div>\n",
       "<style scoped>\n",
       "    .dataframe tbody tr th:only-of-type {\n",
       "        vertical-align: middle;\n",
       "    }\n",
       "\n",
       "    .dataframe tbody tr th {\n",
       "        vertical-align: top;\n",
       "    }\n",
       "\n",
       "    .dataframe thead th {\n",
       "        text-align: right;\n",
       "    }\n",
       "</style>\n",
       "<table border=\"1\" class=\"dataframe\">\n",
       "  <thead>\n",
       "    <tr style=\"text-align: right;\">\n",
       "      <th></th>\n",
       "      <th>BMI</th>\n",
       "      <th>PhysicalHealth</th>\n",
       "      <th>MentalHealth</th>\n",
       "      <th>SleepTime</th>\n",
       "    </tr>\n",
       "  </thead>\n",
       "  <tbody>\n",
       "    <tr>\n",
       "      <th>count</th>\n",
       "      <td>319303.000000</td>\n",
       "      <td>319303.000000</td>\n",
       "      <td>319303.000000</td>\n",
       "      <td>319303.000000</td>\n",
       "    </tr>\n",
       "    <tr>\n",
       "      <th>mean</th>\n",
       "      <td>28.265504</td>\n",
       "      <td>3.361741</td>\n",
       "      <td>3.892134</td>\n",
       "      <td>7.097534</td>\n",
       "    </tr>\n",
       "    <tr>\n",
       "      <th>std</th>\n",
       "      <td>6.168596</td>\n",
       "      <td>7.938239</td>\n",
       "      <td>7.947626</td>\n",
       "      <td>1.434652</td>\n",
       "    </tr>\n",
       "    <tr>\n",
       "      <th>min</th>\n",
       "      <td>12.020000</td>\n",
       "      <td>0.000000</td>\n",
       "      <td>0.000000</td>\n",
       "      <td>1.000000</td>\n",
       "    </tr>\n",
       "    <tr>\n",
       "      <th>25%</th>\n",
       "      <td>24.030000</td>\n",
       "      <td>0.000000</td>\n",
       "      <td>0.000000</td>\n",
       "      <td>6.000000</td>\n",
       "    </tr>\n",
       "    <tr>\n",
       "      <th>50%</th>\n",
       "      <td>27.320000</td>\n",
       "      <td>0.000000</td>\n",
       "      <td>0.000000</td>\n",
       "      <td>7.000000</td>\n",
       "    </tr>\n",
       "    <tr>\n",
       "      <th>75%</th>\n",
       "      <td>31.380000</td>\n",
       "      <td>2.000000</td>\n",
       "      <td>3.000000</td>\n",
       "      <td>8.000000</td>\n",
       "    </tr>\n",
       "    <tr>\n",
       "      <th>max</th>\n",
       "      <td>59.970000</td>\n",
       "      <td>30.000000</td>\n",
       "      <td>30.000000</td>\n",
       "      <td>24.000000</td>\n",
       "    </tr>\n",
       "  </tbody>\n",
       "</table>\n",
       "</div>"
      ],
      "text/plain": [
       "                 BMI  PhysicalHealth   MentalHealth      SleepTime\n",
       "count  319303.000000   319303.000000  319303.000000  319303.000000\n",
       "mean       28.265504        3.361741       3.892134       7.097534\n",
       "std         6.168596        7.938239       7.947626       1.434652\n",
       "min        12.020000        0.000000       0.000000       1.000000\n",
       "25%        24.030000        0.000000       0.000000       6.000000\n",
       "50%        27.320000        0.000000       0.000000       7.000000\n",
       "75%        31.380000        2.000000       3.000000       8.000000\n",
       "max        59.970000       30.000000      30.000000      24.000000"
      ]
     },
     "execution_count": 1475,
     "metadata": {},
     "output_type": "execute_result"
    }
   ],
   "source": [
    "df_heart = df_heart.query(\"BMI<=60\")\n",
    "df_heart.describe()"
   ]
  },
  {
   "cell_type": "markdown",
   "id": "b32c3822-7515-4415-90a1-0884155602fb",
   "metadata": {},
   "source": [
    "#### Mental Health"
   ]
  },
  {
   "cell_type": "code",
   "execution_count": 1476,
   "id": "4cc0af51-aae7-44be-b4bf-cb2c83f5a823",
   "metadata": {},
   "outputs": [
    {
     "data": {
      "text/plain": [
       "MentalHealth\n",
       "0.0     205165\n",
       "30.0     17294\n",
       "2.0      16469\n",
       "5.0      14127\n",
       "10.0     10491\n",
       "3.0      10449\n",
       "15.0      9872\n",
       "1.0       9278\n",
       "7.0       5524\n",
       "20.0      5417\n",
       "4.0       5371\n",
       "14.0      2042\n",
       "25.0      1952\n",
       "6.0       1505\n",
       "8.0       1090\n",
       "12.0       755\n",
       "28.0       514\n",
       "21.0       351\n",
       "29.0       315\n",
       "18.0       210\n",
       "9.0        202\n",
       "16.0       152\n",
       "17.0       128\n",
       "27.0       125\n",
       "13.0       110\n",
       "22.0        98\n",
       "11.0        82\n",
       "23.0        68\n",
       "24.0        67\n",
       "26.0        59\n",
       "19.0        21\n",
       "Name: count, dtype: int64"
      ]
     },
     "execution_count": 1476,
     "metadata": {},
     "output_type": "execute_result"
    }
   ],
   "source": [
    "df_heart[\"MentalHealth\"].value_counts()"
   ]
  },
  {
   "cell_type": "markdown",
   "id": "2d5330df-c497-44b7-95ec-3c55967ad12f",
   "metadata": {},
   "source": [
    "#### Physical Health"
   ]
  },
  {
   "cell_type": "code",
   "execution_count": 1477,
   "id": "6ffc3150-2ef3-4b3d-b89c-c3d2e6f3a6f9",
   "metadata": {
    "scrolled": true
   },
   "outputs": [
    {
     "data": {
      "text/plain": [
       "PhysicalHealth\n",
       "0.0     226372\n",
       "30.0     19402\n",
       "2.0      14860\n",
       "1.0      10479\n",
       "3.0       8600\n",
       "5.0       7585\n",
       "10.0      5443\n",
       "15.0      4991\n",
       "7.0       4616\n",
       "4.0       4456\n",
       "20.0      3200\n",
       "14.0      2888\n",
       "6.0       1269\n",
       "25.0      1157\n",
       "8.0        924\n",
       "21.0       622\n",
       "12.0       602\n",
       "28.0       443\n",
       "29.0       203\n",
       "9.0        179\n",
       "18.0       167\n",
       "16.0       135\n",
       "27.0       124\n",
       "17.0       110\n",
       "13.0        90\n",
       "22.0        88\n",
       "11.0        85\n",
       "24.0        66\n",
       "26.0        66\n",
       "23.0        46\n",
       "19.0        35\n",
       "Name: count, dtype: int64"
      ]
     },
     "execution_count": 1477,
     "metadata": {},
     "output_type": "execute_result"
    }
   ],
   "source": [
    "df_heart[\"PhysicalHealth\"].value_counts()"
   ]
  },
  {
   "cell_type": "markdown",
   "id": "9e30d495-541f-4e28-b908-0a37c9543fcc",
   "metadata": {},
   "source": [
    "#### Sleep Time"
   ]
  },
  {
   "cell_type": "code",
   "execution_count": 1478,
   "id": "36da113f-dc01-4887-9abb-7c6156479ddd",
   "metadata": {
    "scrolled": true
   },
   "outputs": [
    {
     "data": {
      "text/plain": [
       "SleepTime\n",
       "7.0     97652\n",
       "8.0     97492\n",
       "6.0     66593\n",
       "5.0     19130\n",
       "9.0     16019\n",
       "10.0     7785\n",
       "4.0      7717\n",
       "12.0     2195\n",
       "3.0      1980\n",
       "2.0       784\n",
       "1.0       550\n",
       "11.0      415\n",
       "14.0      242\n",
       "16.0      236\n",
       "15.0      188\n",
       "18.0       99\n",
       "13.0       95\n",
       "20.0       63\n",
       "24.0       30\n",
       "17.0       21\n",
       "22.0        9\n",
       "19.0        3\n",
       "23.0        3\n",
       "21.0        2\n",
       "Name: count, dtype: int64"
      ]
     },
     "execution_count": 1478,
     "metadata": {},
     "output_type": "execute_result"
    }
   ],
   "source": [
    "df_heart[\"SleepTime\"].value_counts()"
   ]
  },
  {
   "cell_type": "code",
   "execution_count": 1479,
   "id": "7d7dc592-b304-419f-a668-98560f46aee7",
   "metadata": {},
   "outputs": [
    {
     "data": {
      "text/html": [
       "<div>\n",
       "<style scoped>\n",
       "    .dataframe tbody tr th:only-of-type {\n",
       "        vertical-align: middle;\n",
       "    }\n",
       "\n",
       "    .dataframe tbody tr th {\n",
       "        vertical-align: top;\n",
       "    }\n",
       "\n",
       "    .dataframe thead th {\n",
       "        text-align: right;\n",
       "    }\n",
       "</style>\n",
       "<table border=\"1\" class=\"dataframe\">\n",
       "  <thead>\n",
       "    <tr style=\"text-align: right;\">\n",
       "      <th></th>\n",
       "      <th>HeartDisease</th>\n",
       "      <th>BMI</th>\n",
       "      <th>Smoking</th>\n",
       "      <th>AlcoholDrinking</th>\n",
       "      <th>Stroke</th>\n",
       "      <th>PhysicalHealth</th>\n",
       "      <th>MentalHealth</th>\n",
       "      <th>DiffWalking</th>\n",
       "      <th>Sex</th>\n",
       "      <th>AgeCategory</th>\n",
       "      <th>Race</th>\n",
       "      <th>Diabetic</th>\n",
       "      <th>PhysicalActivity</th>\n",
       "      <th>GenHealth</th>\n",
       "      <th>SleepTime</th>\n",
       "      <th>Asthma</th>\n",
       "      <th>KidneyDisease</th>\n",
       "      <th>SkinCancer</th>\n",
       "    </tr>\n",
       "  </thead>\n",
       "  <tbody>\n",
       "    <tr>\n",
       "      <th>0</th>\n",
       "      <td>No</td>\n",
       "      <td>16.60</td>\n",
       "      <td>Yes</td>\n",
       "      <td>No</td>\n",
       "      <td>No</td>\n",
       "      <td>3.0</td>\n",
       "      <td>30.0</td>\n",
       "      <td>No</td>\n",
       "      <td>Female</td>\n",
       "      <td>55-59</td>\n",
       "      <td>White</td>\n",
       "      <td>Yes</td>\n",
       "      <td>Yes</td>\n",
       "      <td>Very good</td>\n",
       "      <td>5.0</td>\n",
       "      <td>Yes</td>\n",
       "      <td>No</td>\n",
       "      <td>Yes</td>\n",
       "    </tr>\n",
       "    <tr>\n",
       "      <th>1</th>\n",
       "      <td>No</td>\n",
       "      <td>20.34</td>\n",
       "      <td>No</td>\n",
       "      <td>No</td>\n",
       "      <td>Yes</td>\n",
       "      <td>0.0</td>\n",
       "      <td>0.0</td>\n",
       "      <td>No</td>\n",
       "      <td>Female</td>\n",
       "      <td>80 or older</td>\n",
       "      <td>White</td>\n",
       "      <td>No</td>\n",
       "      <td>Yes</td>\n",
       "      <td>Very good</td>\n",
       "      <td>7.0</td>\n",
       "      <td>No</td>\n",
       "      <td>No</td>\n",
       "      <td>No</td>\n",
       "    </tr>\n",
       "    <tr>\n",
       "      <th>2</th>\n",
       "      <td>No</td>\n",
       "      <td>26.58</td>\n",
       "      <td>Yes</td>\n",
       "      <td>No</td>\n",
       "      <td>No</td>\n",
       "      <td>20.0</td>\n",
       "      <td>30.0</td>\n",
       "      <td>No</td>\n",
       "      <td>Male</td>\n",
       "      <td>65-69</td>\n",
       "      <td>White</td>\n",
       "      <td>Yes</td>\n",
       "      <td>Yes</td>\n",
       "      <td>Fair</td>\n",
       "      <td>8.0</td>\n",
       "      <td>Yes</td>\n",
       "      <td>No</td>\n",
       "      <td>No</td>\n",
       "    </tr>\n",
       "    <tr>\n",
       "      <th>3</th>\n",
       "      <td>No</td>\n",
       "      <td>24.21</td>\n",
       "      <td>No</td>\n",
       "      <td>No</td>\n",
       "      <td>No</td>\n",
       "      <td>0.0</td>\n",
       "      <td>0.0</td>\n",
       "      <td>No</td>\n",
       "      <td>Female</td>\n",
       "      <td>75-79</td>\n",
       "      <td>White</td>\n",
       "      <td>No</td>\n",
       "      <td>No</td>\n",
       "      <td>Good</td>\n",
       "      <td>6.0</td>\n",
       "      <td>No</td>\n",
       "      <td>No</td>\n",
       "      <td>Yes</td>\n",
       "    </tr>\n",
       "    <tr>\n",
       "      <th>4</th>\n",
       "      <td>No</td>\n",
       "      <td>23.71</td>\n",
       "      <td>No</td>\n",
       "      <td>No</td>\n",
       "      <td>No</td>\n",
       "      <td>28.0</td>\n",
       "      <td>0.0</td>\n",
       "      <td>Yes</td>\n",
       "      <td>Female</td>\n",
       "      <td>40-44</td>\n",
       "      <td>White</td>\n",
       "      <td>No</td>\n",
       "      <td>Yes</td>\n",
       "      <td>Very good</td>\n",
       "      <td>8.0</td>\n",
       "      <td>No</td>\n",
       "      <td>No</td>\n",
       "      <td>No</td>\n",
       "    </tr>\n",
       "    <tr>\n",
       "      <th>...</th>\n",
       "      <td>...</td>\n",
       "      <td>...</td>\n",
       "      <td>...</td>\n",
       "      <td>...</td>\n",
       "      <td>...</td>\n",
       "      <td>...</td>\n",
       "      <td>...</td>\n",
       "      <td>...</td>\n",
       "      <td>...</td>\n",
       "      <td>...</td>\n",
       "      <td>...</td>\n",
       "      <td>...</td>\n",
       "      <td>...</td>\n",
       "      <td>...</td>\n",
       "      <td>...</td>\n",
       "      <td>...</td>\n",
       "      <td>...</td>\n",
       "      <td>...</td>\n",
       "    </tr>\n",
       "    <tr>\n",
       "      <th>319790</th>\n",
       "      <td>Yes</td>\n",
       "      <td>27.41</td>\n",
       "      <td>Yes</td>\n",
       "      <td>No</td>\n",
       "      <td>No</td>\n",
       "      <td>7.0</td>\n",
       "      <td>0.0</td>\n",
       "      <td>Yes</td>\n",
       "      <td>Male</td>\n",
       "      <td>60-64</td>\n",
       "      <td>Hispanic</td>\n",
       "      <td>Yes</td>\n",
       "      <td>No</td>\n",
       "      <td>Fair</td>\n",
       "      <td>6.0</td>\n",
       "      <td>Yes</td>\n",
       "      <td>No</td>\n",
       "      <td>No</td>\n",
       "    </tr>\n",
       "    <tr>\n",
       "      <th>319791</th>\n",
       "      <td>No</td>\n",
       "      <td>29.84</td>\n",
       "      <td>Yes</td>\n",
       "      <td>No</td>\n",
       "      <td>No</td>\n",
       "      <td>0.0</td>\n",
       "      <td>0.0</td>\n",
       "      <td>No</td>\n",
       "      <td>Male</td>\n",
       "      <td>35-39</td>\n",
       "      <td>Hispanic</td>\n",
       "      <td>No</td>\n",
       "      <td>Yes</td>\n",
       "      <td>Very good</td>\n",
       "      <td>5.0</td>\n",
       "      <td>Yes</td>\n",
       "      <td>No</td>\n",
       "      <td>No</td>\n",
       "    </tr>\n",
       "    <tr>\n",
       "      <th>319792</th>\n",
       "      <td>No</td>\n",
       "      <td>24.24</td>\n",
       "      <td>No</td>\n",
       "      <td>No</td>\n",
       "      <td>No</td>\n",
       "      <td>0.0</td>\n",
       "      <td>0.0</td>\n",
       "      <td>No</td>\n",
       "      <td>Female</td>\n",
       "      <td>45-49</td>\n",
       "      <td>Hispanic</td>\n",
       "      <td>No</td>\n",
       "      <td>Yes</td>\n",
       "      <td>Good</td>\n",
       "      <td>6.0</td>\n",
       "      <td>No</td>\n",
       "      <td>No</td>\n",
       "      <td>No</td>\n",
       "    </tr>\n",
       "    <tr>\n",
       "      <th>319793</th>\n",
       "      <td>No</td>\n",
       "      <td>32.81</td>\n",
       "      <td>No</td>\n",
       "      <td>No</td>\n",
       "      <td>No</td>\n",
       "      <td>0.0</td>\n",
       "      <td>0.0</td>\n",
       "      <td>No</td>\n",
       "      <td>Female</td>\n",
       "      <td>25-29</td>\n",
       "      <td>Hispanic</td>\n",
       "      <td>No</td>\n",
       "      <td>No</td>\n",
       "      <td>Good</td>\n",
       "      <td>12.0</td>\n",
       "      <td>No</td>\n",
       "      <td>No</td>\n",
       "      <td>No</td>\n",
       "    </tr>\n",
       "    <tr>\n",
       "      <th>319794</th>\n",
       "      <td>No</td>\n",
       "      <td>46.56</td>\n",
       "      <td>No</td>\n",
       "      <td>No</td>\n",
       "      <td>No</td>\n",
       "      <td>0.0</td>\n",
       "      <td>0.0</td>\n",
       "      <td>No</td>\n",
       "      <td>Female</td>\n",
       "      <td>80 or older</td>\n",
       "      <td>Hispanic</td>\n",
       "      <td>No</td>\n",
       "      <td>Yes</td>\n",
       "      <td>Good</td>\n",
       "      <td>8.0</td>\n",
       "      <td>No</td>\n",
       "      <td>No</td>\n",
       "      <td>No</td>\n",
       "    </tr>\n",
       "  </tbody>\n",
       "</table>\n",
       "<p>319303 rows × 18 columns</p>\n",
       "</div>"
      ],
      "text/plain": [
       "       HeartDisease    BMI Smoking AlcoholDrinking Stroke  PhysicalHealth  \\\n",
       "0                No  16.60     Yes              No     No             3.0   \n",
       "1                No  20.34      No              No    Yes             0.0   \n",
       "2                No  26.58     Yes              No     No            20.0   \n",
       "3                No  24.21      No              No     No             0.0   \n",
       "4                No  23.71      No              No     No            28.0   \n",
       "...             ...    ...     ...             ...    ...             ...   \n",
       "319790          Yes  27.41     Yes              No     No             7.0   \n",
       "319791           No  29.84     Yes              No     No             0.0   \n",
       "319792           No  24.24      No              No     No             0.0   \n",
       "319793           No  32.81      No              No     No             0.0   \n",
       "319794           No  46.56      No              No     No             0.0   \n",
       "\n",
       "        MentalHealth DiffWalking     Sex  AgeCategory      Race Diabetic  \\\n",
       "0               30.0          No  Female        55-59     White      Yes   \n",
       "1                0.0          No  Female  80 or older     White       No   \n",
       "2               30.0          No    Male        65-69     White      Yes   \n",
       "3                0.0          No  Female        75-79     White       No   \n",
       "4                0.0         Yes  Female        40-44     White       No   \n",
       "...              ...         ...     ...          ...       ...      ...   \n",
       "319790           0.0         Yes    Male        60-64  Hispanic      Yes   \n",
       "319791           0.0          No    Male        35-39  Hispanic       No   \n",
       "319792           0.0          No  Female        45-49  Hispanic       No   \n",
       "319793           0.0          No  Female        25-29  Hispanic       No   \n",
       "319794           0.0          No  Female  80 or older  Hispanic       No   \n",
       "\n",
       "       PhysicalActivity  GenHealth  SleepTime Asthma KidneyDisease SkinCancer  \n",
       "0                   Yes  Very good        5.0    Yes            No        Yes  \n",
       "1                   Yes  Very good        7.0     No            No         No  \n",
       "2                   Yes       Fair        8.0    Yes            No         No  \n",
       "3                    No       Good        6.0     No            No        Yes  \n",
       "4                   Yes  Very good        8.0     No            No         No  \n",
       "...                 ...        ...        ...    ...           ...        ...  \n",
       "319790               No       Fair        6.0    Yes            No         No  \n",
       "319791              Yes  Very good        5.0    Yes            No         No  \n",
       "319792              Yes       Good        6.0     No            No         No  \n",
       "319793               No       Good       12.0     No            No         No  \n",
       "319794              Yes       Good        8.0     No            No         No  \n",
       "\n",
       "[319303 rows x 18 columns]"
      ]
     },
     "execution_count": 1479,
     "metadata": {},
     "output_type": "execute_result"
    }
   ],
   "source": [
    "df_heart"
   ]
  },
  {
   "cell_type": "markdown",
   "id": "025b8919-752d-40e4-aaa7-f39d26708e51",
   "metadata": {},
   "source": [
    "### AgeCategory int로 변환"
   ]
  },
  {
   "cell_type": "code",
   "execution_count": 1480,
   "id": "1da2b8aa-e110-4ace-91ef-01e555c407d1",
   "metadata": {},
   "outputs": [
    {
     "data": {
      "text/plain": [
       "array(['55-59', '80 or older', '65-69', '75-79', '40-44', '70-74',\n",
       "       '60-64', '50-54', '45-49', '18-24', '35-39', '30-34', '25-29'],\n",
       "      dtype=object)"
      ]
     },
     "execution_count": 1480,
     "metadata": {},
     "output_type": "execute_result"
    }
   ],
   "source": [
    "df_heart[\"AgeCategory\"].unique()"
   ]
  },
  {
   "cell_type": "code",
   "execution_count": 1481,
   "id": "f5137caa-9fad-48fa-81e0-e920b9773ba3",
   "metadata": {},
   "outputs": [
    {
     "name": "stderr",
     "output_type": "stream",
     "text": [
      "/tmp/ipykernel_82/3214754107.py:1: SettingWithCopyWarning: \n",
      "A value is trying to be set on a copy of a slice from a DataFrame.\n",
      "Try using .loc[row_indexer,col_indexer] = value instead\n",
      "\n",
      "See the caveats in the documentation: https://pandas.pydata.org/pandas-docs/stable/user_guide/indexing.html#returning-a-view-versus-a-copy\n",
      "  df_heart.loc[:,'AgeCategory_int']=df_heart['AgeCategory'].str[:1]+\"0\"\n"
     ]
    },
    {
     "data": {
      "text/plain": [
       "array([50, 80, 60, 70, 40, 10, 30, 20], dtype=object)"
      ]
     },
     "execution_count": 1481,
     "metadata": {},
     "output_type": "execute_result"
    }
   ],
   "source": [
    "df_heart.loc[:,'AgeCategory_int']=df_heart['AgeCategory'].str[:1]+\"0\"\n",
    "df_heart.loc[:,'AgeCategory_int']=df_heart['AgeCategory_int'].astype(\"int\")\n",
    "df_heart.loc[:,'AgeCategory_int']=df_heart['AgeCategory_int'].astype(\"object\")\n",
    "df_heart[\"AgeCategory_int\"].unique()"
   ]
  },
  {
   "cell_type": "markdown",
   "id": "d4ecabb3-046a-442f-b814-b7dba7f1e08d",
   "metadata": {},
   "source": [
    "### Sex -> 1,0으로 변환"
   ]
  },
  {
   "cell_type": "code",
   "execution_count": 1482,
   "id": "b84be858-35e8-4c63-8f8e-2bb87ff652df",
   "metadata": {},
   "outputs": [
    {
     "data": {
      "text/plain": [
       "array(['Female', 'Male'], dtype=object)"
      ]
     },
     "execution_count": 1482,
     "metadata": {},
     "output_type": "execute_result"
    }
   ],
   "source": [
    "df_heart[\"Sex\"].unique()"
   ]
  },
  {
   "cell_type": "code",
   "execution_count": 1483,
   "id": "f811f650-5b94-4bc1-9d71-2559afad27c5",
   "metadata": {},
   "outputs": [
    {
     "data": {
      "text/plain": [
       "array([1, 0], dtype=object)"
      ]
     },
     "execution_count": 1483,
     "metadata": {},
     "output_type": "execute_result"
    }
   ],
   "source": [
    "    df_heart.loc[df_heart.loc[df_heart['Sex']=='Male'].index,\"Sex\"]=0\n",
    "    df_heart.loc[df_heart.loc[df_heart['Sex']=='Female'].index,'Sex']=1\n",
    "df_heart[\"Sex\"].unique()"
   ]
  },
  {
   "cell_type": "markdown",
   "id": "2ef8de02-d4ca-4406-9b89-f5317144e719",
   "metadata": {},
   "source": [
    "### Race Dtype 변경"
   ]
  },
  {
   "cell_type": "code",
   "execution_count": 1484,
   "id": "5f7d69b1-06bf-4026-bfec-0418a9eb9e6d",
   "metadata": {},
   "outputs": [
    {
     "data": {
      "text/plain": [
       "array(['White', 'Black', 'Asian', 'American Indian/Alaskan Native',\n",
       "       'Other', 'Hispanic'], dtype=object)"
      ]
     },
     "execution_count": 1484,
     "metadata": {},
     "output_type": "execute_result"
    }
   ],
   "source": [
    "df_heart[\"Race\"].unique()"
   ]
  },
  {
   "cell_type": "code",
   "execution_count": 1485,
   "id": "40c9f85d-10bf-49e3-bd82-f7166c1f23c6",
   "metadata": {
    "scrolled": true
   },
   "outputs": [
    {
     "data": {
      "text/plain": [
       "array([0, 1, 2, 3, 4, 5], dtype=object)"
      ]
     },
     "execution_count": 1485,
     "metadata": {},
     "output_type": "execute_result"
    }
   ],
   "source": [
    "df_heart.loc[df_heart.loc[df_heart[\"Race\"]=='White'].index,\"Race\"]=0\n",
    "df_heart.loc[df_heart.loc[df_heart[\"Race\"]=='Black'].index,\"Race\"]=1\n",
    "df_heart.loc[df_heart.loc[df_heart[\"Race\"]=='Asian'].index,\"Race\"]=2\n",
    "df_heart.loc[df_heart.loc[df_heart[\"Race\"]=='American Indian/Alaskan Native'].index,\"Race\"]=3\n",
    "df_heart.loc[df_heart.loc[df_heart[\"Race\"]=='Other'].index,\"Race\"]=4\n",
    "df_heart.loc[df_heart.loc[df_heart[\"Race\"]=='Hispanic'].index,\"Race\"]=5\n",
    "df_heart[\"Race\"].unique()"
   ]
  },
  {
   "cell_type": "markdown",
   "id": "c42059df-9a3a-4595-89af-a389a5ede264",
   "metadata": {},
   "source": [
    "### GenHealth Dtype 변경"
   ]
  },
  {
   "cell_type": "code",
   "execution_count": 1486,
   "id": "fba941e3-da68-4333-a6f4-2ba068d3698d",
   "metadata": {},
   "outputs": [
    {
     "data": {
      "text/plain": [
       "array(['Very good', 'Fair', 'Good', 'Poor', 'Excellent'], dtype=object)"
      ]
     },
     "execution_count": 1486,
     "metadata": {},
     "output_type": "execute_result"
    }
   ],
   "source": [
    "df_heart[\"GenHealth\"].unique()"
   ]
  },
  {
   "cell_type": "code",
   "execution_count": 1487,
   "id": "3d6e6e0b-7d2f-4e44-8349-c4213367fabf",
   "metadata": {},
   "outputs": [
    {
     "data": {
      "text/plain": [
       "array([3, 1, 2, 0, 4], dtype=object)"
      ]
     },
     "execution_count": 1487,
     "metadata": {},
     "output_type": "execute_result"
    }
   ],
   "source": [
    "df_heart.loc[df_heart.loc[df_heart[\"GenHealth\"]=='Poor'].index,\"GenHealth\"]=0\n",
    "df_heart.loc[df_heart.loc[df_heart[\"GenHealth\"]=='Fair'].index,\"GenHealth\"]=1\n",
    "df_heart.loc[df_heart.loc[df_heart[\"GenHealth\"]=='Good'].index,\"GenHealth\"]=2\n",
    "df_heart.loc[df_heart.loc[df_heart[\"GenHealth\"]=='Very good'].index,\"GenHealth\"]=3\n",
    "df_heart.loc[df_heart.loc[df_heart[\"GenHealth\"]=='Excellent'].index,\"GenHealth\"]=4\n",
    "df_heart[\"GenHealth\"].unique()"
   ]
  },
  {
   "cell_type": "markdown",
   "id": "81b8145f-43c4-4a92-af20-35ad35dca11f",
   "metadata": {},
   "source": [
    "### Diabetic Dtype 변경"
   ]
  },
  {
   "cell_type": "code",
   "execution_count": 1488,
   "id": "39124603-fe69-4289-b763-301a062d9053",
   "metadata": {},
   "outputs": [
    {
     "data": {
      "text/plain": [
       "array(['Yes', 'No', 'No, borderline diabetes', 'Yes (during pregnancy)'],\n",
       "      dtype=object)"
      ]
     },
     "execution_count": 1488,
     "metadata": {},
     "output_type": "execute_result"
    }
   ],
   "source": [
    "df_heart[\"Diabetic\"].unique()"
   ]
  },
  {
   "cell_type": "code",
   "execution_count": 1489,
   "id": "f33fbc88-2c68-4915-900e-03081a39ea7c",
   "metadata": {},
   "outputs": [
    {
     "data": {
      "text/plain": [
       "array([2, 0, 1, 3], dtype=object)"
      ]
     },
     "execution_count": 1489,
     "metadata": {},
     "output_type": "execute_result"
    }
   ],
   "source": [
    "df_heart.loc[df_heart.loc[df_heart[\"Diabetic\"]==\"No\"].index,\"Diabetic\"]=0\n",
    "df_heart.loc[df_heart.loc[df_heart[\"Diabetic\"]=='No, borderline diabetes'].index,\"Diabetic\"]=1\n",
    "df_heart.loc[df_heart.loc[df_heart[\"Diabetic\"]==\"Yes\"].index,\"Diabetic\"]=2\n",
    "df_heart.loc[df_heart.loc[df_heart[\"Diabetic\"]=='Yes (during pregnancy)'].index,\"Diabetic\"]=3\n",
    "df_heart[\"Diabetic\"].unique()"
   ]
  },
  {
   "cell_type": "markdown",
   "id": "4aba4a26-0a1b-4ac6-9374-51f52ec4d660",
   "metadata": {},
   "source": [
    "### Yes,No -> 1,0으로 변환"
   ]
  },
  {
   "cell_type": "code",
   "execution_count": null,
   "id": "4892f163-2984-4b98-987d-4e81e8db9086",
   "metadata": {},
   "outputs": [],
   "source": [
    "for i in list(df_heart.columns):\n",
    "    df_heart.loc[df_heart.loc[df_heart[i]=='No'].index,i]=0\n",
    "    df_heart.loc[df_heart.loc[df_heart[i]=='Yes'].index,i]=1\n",
    "df_heart"
   ]
  },
  {
   "cell_type": "markdown",
   "id": "769c2773-2937-4daf-922d-46a4b7161b43",
   "metadata": {},
   "source": [
    "## 심장병 있는 사람과 없는 사람의 다른 항목 분포도 비교"
   ]
  },
  {
   "cell_type": "code",
   "execution_count": null,
   "id": "472790d6-03d4-4c70-ae3b-573553031d55",
   "metadata": {},
   "outputs": [],
   "source": [
    "df_heart_disease.describe(include=\"object\").loc[\"top\",:],df_heart_good.describe(include=\"object\").loc[\"top\",:]"
   ]
  },
  {
   "cell_type": "code",
   "execution_count": null,
   "id": "41531bf8-0d3b-4127-bcd0-253453da7e1c",
   "metadata": {},
   "outputs": [],
   "source": [
    "df_heart_disease.describe(include=\"object\").loc[\"freq\",:]/df_heart_disease.describe(include=\"object\").loc[\"count\",:],df_heart_good.describe(include=\"object\").loc[\"freq\",:]/df_heart_good.describe(include=\"object\").loc[\"count\",:]"
   ]
  },
  {
   "cell_type": "markdown",
   "id": "f8e6a66e-6a6f-4e0a-be9e-e1efd0c24e9c",
   "metadata": {},
   "source": [
    "## 군집화\n",
    "* 범주형 데이터끼리도 해보고, 수치형 데이터끼리도 해보고, 섞어서도 해봤지만, 이상적인 분류가 나오지 않아 실패"
   ]
  },
  {
   "cell_type": "code",
   "execution_count": null,
   "id": "d8f9c3d7-7341-40ee-9dbb-84a9031a6750",
   "metadata": {},
   "outputs": [],
   "source": [
    "pip install kmodes"
   ]
  },
  {
   "cell_type": "code",
   "execution_count": null,
   "id": "9c3029f8-2149-49a4-b379-fb3ac9949185",
   "metadata": {},
   "outputs": [],
   "source": [
    "# 수치형 군집화\n",
    "from sklearn.cluster import KMeans\n",
    "BMI_model = KMeans(n_clusters=3)\n",
    "Sleep_model = KMeans(n_clusters=3)\n",
    "\n",
    "# 범주형 군집화\n",
    "# from kmodes.kmodes import KModes\n",
    "# model = KModes(n_clusters=4)\n",
    "\n",
    "# # 수치형 + 범주형 군집화\n",
    "# from sklearn.cluster import KMeans\n",
    "# model = KMeans(n_clusters=4, init='k-means++')\n",
    "# from kmodes.kprototypes import KPrototypes\n",
    "# model = KPrototypes(n_clusters=3, init='Cao')\n"
   ]
  },
  {
   "cell_type": "code",
   "execution_count": null,
   "id": "86285434-d39c-49b7-b70f-e39ef15691da",
   "metadata": {},
   "outputs": [],
   "source": [
    "df_heart.query(\"HeartDisease==1\").describe(include=\"all\")"
   ]
  },
  {
   "cell_type": "code",
   "execution_count": 1329,
   "id": "a08e023d-bf15-4c0f-b3ca-65bf30174928",
   "metadata": {},
   "outputs": [
    {
     "name": "stdout",
     "output_type": "stream",
     "text": [
      "<class 'pandas.core.frame.DataFrame'>\n",
      "Index: 27316 entries, 5 to 319790\n",
      "Data columns (total 19 columns):\n",
      " #   Column            Non-Null Count  Dtype  \n",
      "---  ------            --------------  -----  \n",
      " 0   HeartDisease      27316 non-null  object \n",
      " 1   BMI               27316 non-null  float64\n",
      " 2   Smoking           27316 non-null  object \n",
      " 3   AlcoholDrinking   27316 non-null  object \n",
      " 4   Stroke            27316 non-null  object \n",
      " 5   PhysicalHealth    27316 non-null  float64\n",
      " 6   MentalHealth      27316 non-null  float64\n",
      " 7   DiffWalking       27316 non-null  object \n",
      " 8   Sex               27316 non-null  object \n",
      " 9   AgeCategory       27316 non-null  object \n",
      " 10  Race              27316 non-null  object \n",
      " 11  Diabetic          27316 non-null  object \n",
      " 12  PhysicalActivity  27316 non-null  object \n",
      " 13  GenHealth         27316 non-null  object \n",
      " 14  SleepTime         27316 non-null  float64\n",
      " 15  Asthma            27316 non-null  object \n",
      " 16  KidneyDisease     27316 non-null  object \n",
      " 17  SkinCancer        27316 non-null  object \n",
      " 18  AgeCategory_int   27316 non-null  object \n",
      "dtypes: float64(4), object(15)\n",
      "memory usage: 4.2+ MB\n"
     ]
    }
   ],
   "source": [
    "df_heart_disease.info()"
   ]
  },
  {
   "cell_type": "code",
   "execution_count": 1330,
   "id": "8867fecb-2b6b-4411-98e2-9b017b8dc75d",
   "metadata": {},
   "outputs": [
    {
     "data": {
      "text/html": [
       "<style>#sk-container-id-50 {\n",
       "  /* Definition of color scheme common for light and dark mode */\n",
       "  --sklearn-color-text: black;\n",
       "  --sklearn-color-line: gray;\n",
       "  /* Definition of color scheme for unfitted estimators */\n",
       "  --sklearn-color-unfitted-level-0: #fff5e6;\n",
       "  --sklearn-color-unfitted-level-1: #f6e4d2;\n",
       "  --sklearn-color-unfitted-level-2: #ffe0b3;\n",
       "  --sklearn-color-unfitted-level-3: chocolate;\n",
       "  /* Definition of color scheme for fitted estimators */\n",
       "  --sklearn-color-fitted-level-0: #f0f8ff;\n",
       "  --sklearn-color-fitted-level-1: #d4ebff;\n",
       "  --sklearn-color-fitted-level-2: #b3dbfd;\n",
       "  --sklearn-color-fitted-level-3: cornflowerblue;\n",
       "\n",
       "  /* Specific color for light theme */\n",
       "  --sklearn-color-text-on-default-background: var(--sg-text-color, var(--theme-code-foreground, var(--jp-content-font-color1, black)));\n",
       "  --sklearn-color-background: var(--sg-background-color, var(--theme-background, var(--jp-layout-color0, white)));\n",
       "  --sklearn-color-border-box: var(--sg-text-color, var(--theme-code-foreground, var(--jp-content-font-color1, black)));\n",
       "  --sklearn-color-icon: #696969;\n",
       "\n",
       "  @media (prefers-color-scheme: dark) {\n",
       "    /* Redefinition of color scheme for dark theme */\n",
       "    --sklearn-color-text-on-default-background: var(--sg-text-color, var(--theme-code-foreground, var(--jp-content-font-color1, white)));\n",
       "    --sklearn-color-background: var(--sg-background-color, var(--theme-background, var(--jp-layout-color0, #111)));\n",
       "    --sklearn-color-border-box: var(--sg-text-color, var(--theme-code-foreground, var(--jp-content-font-color1, white)));\n",
       "    --sklearn-color-icon: #878787;\n",
       "  }\n",
       "}\n",
       "\n",
       "#sk-container-id-50 {\n",
       "  color: var(--sklearn-color-text);\n",
       "}\n",
       "\n",
       "#sk-container-id-50 pre {\n",
       "  padding: 0;\n",
       "}\n",
       "\n",
       "#sk-container-id-50 input.sk-hidden--visually {\n",
       "  border: 0;\n",
       "  clip: rect(1px 1px 1px 1px);\n",
       "  clip: rect(1px, 1px, 1px, 1px);\n",
       "  height: 1px;\n",
       "  margin: -1px;\n",
       "  overflow: hidden;\n",
       "  padding: 0;\n",
       "  position: absolute;\n",
       "  width: 1px;\n",
       "}\n",
       "\n",
       "#sk-container-id-50 div.sk-dashed-wrapped {\n",
       "  border: 1px dashed var(--sklearn-color-line);\n",
       "  margin: 0 0.4em 0.5em 0.4em;\n",
       "  box-sizing: border-box;\n",
       "  padding-bottom: 0.4em;\n",
       "  background-color: var(--sklearn-color-background);\n",
       "}\n",
       "\n",
       "#sk-container-id-50 div.sk-container {\n",
       "  /* jupyter's `normalize.less` sets `[hidden] { display: none; }`\n",
       "     but bootstrap.min.css set `[hidden] { display: none !important; }`\n",
       "     so we also need the `!important` here to be able to override the\n",
       "     default hidden behavior on the sphinx rendered scikit-learn.org.\n",
       "     See: https://github.com/scikit-learn/scikit-learn/issues/21755 */\n",
       "  display: inline-block !important;\n",
       "  position: relative;\n",
       "}\n",
       "\n",
       "#sk-container-id-50 div.sk-text-repr-fallback {\n",
       "  display: none;\n",
       "}\n",
       "\n",
       "div.sk-parallel-item,\n",
       "div.sk-serial,\n",
       "div.sk-item {\n",
       "  /* draw centered vertical line to link estimators */\n",
       "  background-image: linear-gradient(var(--sklearn-color-text-on-default-background), var(--sklearn-color-text-on-default-background));\n",
       "  background-size: 2px 100%;\n",
       "  background-repeat: no-repeat;\n",
       "  background-position: center center;\n",
       "}\n",
       "\n",
       "/* Parallel-specific style estimator block */\n",
       "\n",
       "#sk-container-id-50 div.sk-parallel-item::after {\n",
       "  content: \"\";\n",
       "  width: 100%;\n",
       "  border-bottom: 2px solid var(--sklearn-color-text-on-default-background);\n",
       "  flex-grow: 1;\n",
       "}\n",
       "\n",
       "#sk-container-id-50 div.sk-parallel {\n",
       "  display: flex;\n",
       "  align-items: stretch;\n",
       "  justify-content: center;\n",
       "  background-color: var(--sklearn-color-background);\n",
       "  position: relative;\n",
       "}\n",
       "\n",
       "#sk-container-id-50 div.sk-parallel-item {\n",
       "  display: flex;\n",
       "  flex-direction: column;\n",
       "}\n",
       "\n",
       "#sk-container-id-50 div.sk-parallel-item:first-child::after {\n",
       "  align-self: flex-end;\n",
       "  width: 50%;\n",
       "}\n",
       "\n",
       "#sk-container-id-50 div.sk-parallel-item:last-child::after {\n",
       "  align-self: flex-start;\n",
       "  width: 50%;\n",
       "}\n",
       "\n",
       "#sk-container-id-50 div.sk-parallel-item:only-child::after {\n",
       "  width: 0;\n",
       "}\n",
       "\n",
       "/* Serial-specific style estimator block */\n",
       "\n",
       "#sk-container-id-50 div.sk-serial {\n",
       "  display: flex;\n",
       "  flex-direction: column;\n",
       "  align-items: center;\n",
       "  background-color: var(--sklearn-color-background);\n",
       "  padding-right: 1em;\n",
       "  padding-left: 1em;\n",
       "}\n",
       "\n",
       "\n",
       "/* Toggleable style: style used for estimator/Pipeline/ColumnTransformer box that is\n",
       "clickable and can be expanded/collapsed.\n",
       "- Pipeline and ColumnTransformer use this feature and define the default style\n",
       "- Estimators will overwrite some part of the style using the `sk-estimator` class\n",
       "*/\n",
       "\n",
       "/* Pipeline and ColumnTransformer style (default) */\n",
       "\n",
       "#sk-container-id-50 div.sk-toggleable {\n",
       "  /* Default theme specific background. It is overwritten whether we have a\n",
       "  specific estimator or a Pipeline/ColumnTransformer */\n",
       "  background-color: var(--sklearn-color-background);\n",
       "}\n",
       "\n",
       "/* Toggleable label */\n",
       "#sk-container-id-50 label.sk-toggleable__label {\n",
       "  cursor: pointer;\n",
       "  display: block;\n",
       "  width: 100%;\n",
       "  margin-bottom: 0;\n",
       "  padding: 0.5em;\n",
       "  box-sizing: border-box;\n",
       "  text-align: center;\n",
       "}\n",
       "\n",
       "#sk-container-id-50 label.sk-toggleable__label-arrow:before {\n",
       "  /* Arrow on the left of the label */\n",
       "  content: \"▸\";\n",
       "  float: left;\n",
       "  margin-right: 0.25em;\n",
       "  color: var(--sklearn-color-icon);\n",
       "}\n",
       "\n",
       "#sk-container-id-50 label.sk-toggleable__label-arrow:hover:before {\n",
       "  color: var(--sklearn-color-text);\n",
       "}\n",
       "\n",
       "/* Toggleable content - dropdown */\n",
       "\n",
       "#sk-container-id-50 div.sk-toggleable__content {\n",
       "  max-height: 0;\n",
       "  max-width: 0;\n",
       "  overflow: hidden;\n",
       "  text-align: left;\n",
       "  /* unfitted */\n",
       "  background-color: var(--sklearn-color-unfitted-level-0);\n",
       "}\n",
       "\n",
       "#sk-container-id-50 div.sk-toggleable__content.fitted {\n",
       "  /* fitted */\n",
       "  background-color: var(--sklearn-color-fitted-level-0);\n",
       "}\n",
       "\n",
       "#sk-container-id-50 div.sk-toggleable__content pre {\n",
       "  margin: 0.2em;\n",
       "  border-radius: 0.25em;\n",
       "  color: var(--sklearn-color-text);\n",
       "  /* unfitted */\n",
       "  background-color: var(--sklearn-color-unfitted-level-0);\n",
       "}\n",
       "\n",
       "#sk-container-id-50 div.sk-toggleable__content.fitted pre {\n",
       "  /* unfitted */\n",
       "  background-color: var(--sklearn-color-fitted-level-0);\n",
       "}\n",
       "\n",
       "#sk-container-id-50 input.sk-toggleable__control:checked~div.sk-toggleable__content {\n",
       "  /* Expand drop-down */\n",
       "  max-height: 200px;\n",
       "  max-width: 100%;\n",
       "  overflow: auto;\n",
       "}\n",
       "\n",
       "#sk-container-id-50 input.sk-toggleable__control:checked~label.sk-toggleable__label-arrow:before {\n",
       "  content: \"▾\";\n",
       "}\n",
       "\n",
       "/* Pipeline/ColumnTransformer-specific style */\n",
       "\n",
       "#sk-container-id-50 div.sk-label input.sk-toggleable__control:checked~label.sk-toggleable__label {\n",
       "  color: var(--sklearn-color-text);\n",
       "  background-color: var(--sklearn-color-unfitted-level-2);\n",
       "}\n",
       "\n",
       "#sk-container-id-50 div.sk-label.fitted input.sk-toggleable__control:checked~label.sk-toggleable__label {\n",
       "  background-color: var(--sklearn-color-fitted-level-2);\n",
       "}\n",
       "\n",
       "/* Estimator-specific style */\n",
       "\n",
       "/* Colorize estimator box */\n",
       "#sk-container-id-50 div.sk-estimator input.sk-toggleable__control:checked~label.sk-toggleable__label {\n",
       "  /* unfitted */\n",
       "  background-color: var(--sklearn-color-unfitted-level-2);\n",
       "}\n",
       "\n",
       "#sk-container-id-50 div.sk-estimator.fitted input.sk-toggleable__control:checked~label.sk-toggleable__label {\n",
       "  /* fitted */\n",
       "  background-color: var(--sklearn-color-fitted-level-2);\n",
       "}\n",
       "\n",
       "#sk-container-id-50 div.sk-label label.sk-toggleable__label,\n",
       "#sk-container-id-50 div.sk-label label {\n",
       "  /* The background is the default theme color */\n",
       "  color: var(--sklearn-color-text-on-default-background);\n",
       "}\n",
       "\n",
       "/* On hover, darken the color of the background */\n",
       "#sk-container-id-50 div.sk-label:hover label.sk-toggleable__label {\n",
       "  color: var(--sklearn-color-text);\n",
       "  background-color: var(--sklearn-color-unfitted-level-2);\n",
       "}\n",
       "\n",
       "/* Label box, darken color on hover, fitted */\n",
       "#sk-container-id-50 div.sk-label.fitted:hover label.sk-toggleable__label.fitted {\n",
       "  color: var(--sklearn-color-text);\n",
       "  background-color: var(--sklearn-color-fitted-level-2);\n",
       "}\n",
       "\n",
       "/* Estimator label */\n",
       "\n",
       "#sk-container-id-50 div.sk-label label {\n",
       "  font-family: monospace;\n",
       "  font-weight: bold;\n",
       "  display: inline-block;\n",
       "  line-height: 1.2em;\n",
       "}\n",
       "\n",
       "#sk-container-id-50 div.sk-label-container {\n",
       "  text-align: center;\n",
       "}\n",
       "\n",
       "/* Estimator-specific */\n",
       "#sk-container-id-50 div.sk-estimator {\n",
       "  font-family: monospace;\n",
       "  border: 1px dotted var(--sklearn-color-border-box);\n",
       "  border-radius: 0.25em;\n",
       "  box-sizing: border-box;\n",
       "  margin-bottom: 0.5em;\n",
       "  /* unfitted */\n",
       "  background-color: var(--sklearn-color-unfitted-level-0);\n",
       "}\n",
       "\n",
       "#sk-container-id-50 div.sk-estimator.fitted {\n",
       "  /* fitted */\n",
       "  background-color: var(--sklearn-color-fitted-level-0);\n",
       "}\n",
       "\n",
       "/* on hover */\n",
       "#sk-container-id-50 div.sk-estimator:hover {\n",
       "  /* unfitted */\n",
       "  background-color: var(--sklearn-color-unfitted-level-2);\n",
       "}\n",
       "\n",
       "#sk-container-id-50 div.sk-estimator.fitted:hover {\n",
       "  /* fitted */\n",
       "  background-color: var(--sklearn-color-fitted-level-2);\n",
       "}\n",
       "\n",
       "/* Specification for estimator info (e.g. \"i\" and \"?\") */\n",
       "\n",
       "/* Common style for \"i\" and \"?\" */\n",
       "\n",
       ".sk-estimator-doc-link,\n",
       "a:link.sk-estimator-doc-link,\n",
       "a:visited.sk-estimator-doc-link {\n",
       "  float: right;\n",
       "  font-size: smaller;\n",
       "  line-height: 1em;\n",
       "  font-family: monospace;\n",
       "  background-color: var(--sklearn-color-background);\n",
       "  border-radius: 1em;\n",
       "  height: 1em;\n",
       "  width: 1em;\n",
       "  text-decoration: none !important;\n",
       "  margin-left: 1ex;\n",
       "  /* unfitted */\n",
       "  border: var(--sklearn-color-unfitted-level-1) 1pt solid;\n",
       "  color: var(--sklearn-color-unfitted-level-1);\n",
       "}\n",
       "\n",
       ".sk-estimator-doc-link.fitted,\n",
       "a:link.sk-estimator-doc-link.fitted,\n",
       "a:visited.sk-estimator-doc-link.fitted {\n",
       "  /* fitted */\n",
       "  border: var(--sklearn-color-fitted-level-1) 1pt solid;\n",
       "  color: var(--sklearn-color-fitted-level-1);\n",
       "}\n",
       "\n",
       "/* On hover */\n",
       "div.sk-estimator:hover .sk-estimator-doc-link:hover,\n",
       ".sk-estimator-doc-link:hover,\n",
       "div.sk-label-container:hover .sk-estimator-doc-link:hover,\n",
       ".sk-estimator-doc-link:hover {\n",
       "  /* unfitted */\n",
       "  background-color: var(--sklearn-color-unfitted-level-3);\n",
       "  color: var(--sklearn-color-background);\n",
       "  text-decoration: none;\n",
       "}\n",
       "\n",
       "div.sk-estimator.fitted:hover .sk-estimator-doc-link.fitted:hover,\n",
       ".sk-estimator-doc-link.fitted:hover,\n",
       "div.sk-label-container:hover .sk-estimator-doc-link.fitted:hover,\n",
       ".sk-estimator-doc-link.fitted:hover {\n",
       "  /* fitted */\n",
       "  background-color: var(--sklearn-color-fitted-level-3);\n",
       "  color: var(--sklearn-color-background);\n",
       "  text-decoration: none;\n",
       "}\n",
       "\n",
       "/* Span, style for the box shown on hovering the info icon */\n",
       ".sk-estimator-doc-link span {\n",
       "  display: none;\n",
       "  z-index: 9999;\n",
       "  position: relative;\n",
       "  font-weight: normal;\n",
       "  right: .2ex;\n",
       "  padding: .5ex;\n",
       "  margin: .5ex;\n",
       "  width: min-content;\n",
       "  min-width: 20ex;\n",
       "  max-width: 50ex;\n",
       "  color: var(--sklearn-color-text);\n",
       "  box-shadow: 2pt 2pt 4pt #999;\n",
       "  /* unfitted */\n",
       "  background: var(--sklearn-color-unfitted-level-0);\n",
       "  border: .5pt solid var(--sklearn-color-unfitted-level-3);\n",
       "}\n",
       "\n",
       ".sk-estimator-doc-link.fitted span {\n",
       "  /* fitted */\n",
       "  background: var(--sklearn-color-fitted-level-0);\n",
       "  border: var(--sklearn-color-fitted-level-3);\n",
       "}\n",
       "\n",
       ".sk-estimator-doc-link:hover span {\n",
       "  display: block;\n",
       "}\n",
       "\n",
       "/* \"?\"-specific style due to the `<a>` HTML tag */\n",
       "\n",
       "#sk-container-id-50 a.estimator_doc_link {\n",
       "  float: right;\n",
       "  font-size: 1rem;\n",
       "  line-height: 1em;\n",
       "  font-family: monospace;\n",
       "  background-color: var(--sklearn-color-background);\n",
       "  border-radius: 1rem;\n",
       "  height: 1rem;\n",
       "  width: 1rem;\n",
       "  text-decoration: none;\n",
       "  /* unfitted */\n",
       "  color: var(--sklearn-color-unfitted-level-1);\n",
       "  border: var(--sklearn-color-unfitted-level-1) 1pt solid;\n",
       "}\n",
       "\n",
       "#sk-container-id-50 a.estimator_doc_link.fitted {\n",
       "  /* fitted */\n",
       "  border: var(--sklearn-color-fitted-level-1) 1pt solid;\n",
       "  color: var(--sklearn-color-fitted-level-1);\n",
       "}\n",
       "\n",
       "/* On hover */\n",
       "#sk-container-id-50 a.estimator_doc_link:hover {\n",
       "  /* unfitted */\n",
       "  background-color: var(--sklearn-color-unfitted-level-3);\n",
       "  color: var(--sklearn-color-background);\n",
       "  text-decoration: none;\n",
       "}\n",
       "\n",
       "#sk-container-id-50 a.estimator_doc_link.fitted:hover {\n",
       "  /* fitted */\n",
       "  background-color: var(--sklearn-color-fitted-level-3);\n",
       "}\n",
       "</style><div id=\"sk-container-id-50\" class=\"sk-top-container\"><div class=\"sk-text-repr-fallback\"><pre>KMeans(n_clusters=3)</pre><b>In a Jupyter environment, please rerun this cell to show the HTML representation or trust the notebook. <br />On GitHub, the HTML representation is unable to render, please try loading this page with nbviewer.org.</b></div><div class=\"sk-container\" hidden><div class=\"sk-item\"><div class=\"sk-estimator fitted sk-toggleable\"><input class=\"sk-toggleable__control sk-hidden--visually\" id=\"sk-estimator-id-50\" type=\"checkbox\" checked><label for=\"sk-estimator-id-50\" class=\"sk-toggleable__label fitted sk-toggleable__label-arrow fitted\">&nbsp;&nbsp;KMeans<a class=\"sk-estimator-doc-link fitted\" rel=\"noreferrer\" target=\"_blank\" href=\"https://scikit-learn.org/1.4/modules/generated/sklearn.cluster.KMeans.html\">?<span>Documentation for KMeans</span></a><span class=\"sk-estimator-doc-link fitted\">i<span>Fitted</span></span></label><div class=\"sk-toggleable__content fitted\"><pre>KMeans(n_clusters=3)</pre></div> </div></div></div></div>"
      ],
      "text/plain": [
       "KMeans(n_clusters=3)"
      ]
     },
     "execution_count": 1330,
     "metadata": {},
     "output_type": "execute_result"
    }
   ],
   "source": [
    "BMI_model.fit(df_heart_disease[[\"BMI\"]])\n",
    "Sleep_model.fit(df_heart_disease[[\"SleepTime\"]])\n",
    "\n",
    "# model.fit(df_heart_disease[[\"BMI\", \"DiffWalking\"]], categorical=[1])"
   ]
  },
  {
   "cell_type": "code",
   "execution_count": 1331,
   "id": "f351153e-154c-408d-8434-c79852ccf85d",
   "metadata": {},
   "outputs": [
    {
     "name": "stdout",
     "output_type": "stream",
     "text": [
      "420391.5295799015\n",
      "223321.34846062108\n",
      "135453.882116332\n",
      "91578.07868260061\n",
      "66126.7305063344\n"
     ]
    }
   ],
   "source": [
    "n_cluster_list = [2,3,4,5,6]\n",
    "\n",
    "BMI_result_list =[]\n",
    "for n_cluster in n_cluster_list:\n",
    "  n_model = KMeans(n_clusters=n_cluster)\n",
    "  n_model.fit(df_heart_disease[[\"BMI\"]])\n",
    "  print(n_model.inertia_)\n",
    "  BMI_result_list.append(n_model.inertia_)\n",
    "  pass\n",
    "     \n"
   ]
  },
  {
   "cell_type": "code",
   "execution_count": 1332,
   "id": "14bfaf29-f7c4-44cd-974e-3c50c5970b5c",
   "metadata": {},
   "outputs": [
    {
     "name": "stdout",
     "output_type": "stream",
     "text": [
      "51861.86173453517\n",
      "30243.637597797297\n",
      "18314.471359389794\n",
      "10904.987233309777\n",
      "7417.274232537189\n"
     ]
    }
   ],
   "source": [
    "n_cluster_list = [2,3,4,5,6]\n",
    "\n",
    "Sleep_result_list =[]\n",
    "for n_cluster in n_cluster_list:\n",
    "  n_model = KMeans(n_clusters=n_cluster)\n",
    "  n_model.fit(df_heart_disease[[\"SleepTime\"]])\n",
    "  print(n_model.inertia_)\n",
    "  Sleep_result_list.append(n_model.inertia_)\n",
    "  pass\n",
    "     \n"
   ]
  },
  {
   "cell_type": "code",
   "execution_count": 1333,
   "id": "608e88ce-b1db-4f0c-aac4-db12d9d9d892",
   "metadata": {},
   "outputs": [
    {
     "data": {
      "image/png": "[encoded data removed]",
      "text/plain": [
       "<Figure size 640x480 with 1 Axes>"
      ]
     },
     "metadata": {},
     "output_type": "display_data"
    }
   ],
   "source": [
    "import seaborn as sns\n",
    "import matplotlib.pyplot as plt\n",
    "sns.scatterplot(x=n_cluster_list,y=BMI_result_list)\n",
    "sns.lineplot(x=n_cluster_list,y=BMI_result_list)\n",
    "plt.show() "
   ]
  },
  {
   "cell_type": "code",
   "execution_count": 1334,
   "id": "473be980-fea2-4f54-8405-b1729ca08c37",
   "metadata": {},
   "outputs": [
    {
     "data": {
      "image/png": "[encoded data removed]",
      "text/plain": [
       "<Figure size 640x480 with 1 Axes>"
      ]
     },
     "metadata": {},
     "output_type": "display_data"
    }
   ],
   "source": [
    "import seaborn as sns\n",
    "import matplotlib.pyplot as plt\n",
    "sns.scatterplot(x=n_cluster_list,y=Sleep_result_list)\n",
    "sns.lineplot(x=n_cluster_list,y=Sleep_result_list)\n",
    "plt.show() "
   ]
  },
  {
   "cell_type": "code",
   "execution_count": 1335,
   "id": "019acdbd-f07a-43fd-ae82-8264f9074924",
   "metadata": {},
   "outputs": [
    {
     "name": "stderr",
     "output_type": "stream",
     "text": [
      "/tmp/ipykernel_82/486380777.py:4: SettingWithCopyWarning: \n",
      "A value is trying to be set on a copy of a slice from a DataFrame.\n",
      "Try using .loc[row_indexer,col_indexer] = value instead\n",
      "\n",
      "See the caveats in the documentation: https://pandas.pydata.org/pandas-docs/stable/user_guide/indexing.html#returning-a-view-versus-a-copy\n",
      "  df_heart_disease.loc[:,'BMI_cluster'] = BMI_cluster_list\n",
      "/tmp/ipykernel_82/486380777.py:5: SettingWithCopyWarning: \n",
      "A value is trying to be set on a copy of a slice from a DataFrame.\n",
      "Try using .loc[row_indexer,col_indexer] = value instead\n",
      "\n",
      "See the caveats in the documentation: https://pandas.pydata.org/pandas-docs/stable/user_guide/indexing.html#returning-a-view-versus-a-copy\n",
      "  df_heart_disease.loc[:,'Sleep_cluster'] = Sleep_cluster_list\n"
     ]
    },
    {
     "data": {
      "text/plain": [
       "Sleep_cluster\n",
       "1    11858\n",
       "0    11728\n",
       "2     3730\n",
       "Name: count, dtype: int64"
      ]
     },
     "execution_count": 1335,
     "metadata": {},
     "output_type": "execute_result"
    }
   ],
   "source": [
    "BMI_cluster_list = BMI_model.predict(df_heart_disease[[\"BMI\"]])\n",
    "Sleep_cluster_list = Sleep_model.predict(df_heart_disease[[\"SleepTime\"]])\n",
    "# df_heart.loc['cluster'] = cluster_list\n",
    "df_heart_disease.loc[:,'BMI_cluster'] = BMI_cluster_list\n",
    "df_heart_disease.loc[:,'Sleep_cluster'] = Sleep_cluster_list\n",
    "df_heart_disease[\"Sleep_cluster\"].value_counts()\n",
    "# cluster_list"
   ]
  },
  {
   "cell_type": "code",
   "execution_count": 1336,
   "id": "5505784f-b014-4d0a-8f31-0657a27e398d",
   "metadata": {},
   "outputs": [
    {
     "data": {
      "text/html": [
       "<div>\n",
       "<style scoped>\n",
       "    .dataframe tbody tr th:only-of-type {\n",
       "        vertical-align: middle;\n",
       "    }\n",
       "\n",
       "    .dataframe tbody tr th {\n",
       "        vertical-align: top;\n",
       "    }\n",
       "\n",
       "    .dataframe thead th {\n",
       "        text-align: right;\n",
       "    }\n",
       "</style>\n",
       "<table border=\"1\" class=\"dataframe\">\n",
       "  <thead>\n",
       "    <tr style=\"text-align: right;\">\n",
       "      <th></th>\n",
       "      <th>BMI</th>\n",
       "      <th>SleepTime</th>\n",
       "    </tr>\n",
       "  </thead>\n",
       "  <tbody>\n",
       "    <tr>\n",
       "      <th>count</th>\n",
       "      <td>11728.000000</td>\n",
       "      <td>11728.000000</td>\n",
       "    </tr>\n",
       "    <tr>\n",
       "      <th>mean</th>\n",
       "      <td>29.401642</td>\n",
       "      <td>6.538967</td>\n",
       "    </tr>\n",
       "    <tr>\n",
       "      <th>std</th>\n",
       "      <td>6.240490</td>\n",
       "      <td>0.498501</td>\n",
       "    </tr>\n",
       "    <tr>\n",
       "      <th>min</th>\n",
       "      <td>12.210000</td>\n",
       "      <td>6.000000</td>\n",
       "    </tr>\n",
       "    <tr>\n",
       "      <th>25%</th>\n",
       "      <td>25.100000</td>\n",
       "      <td>6.000000</td>\n",
       "    </tr>\n",
       "    <tr>\n",
       "      <th>50%</th>\n",
       "      <td>28.460000</td>\n",
       "      <td>7.000000</td>\n",
       "    </tr>\n",
       "    <tr>\n",
       "      <th>75%</th>\n",
       "      <td>32.590000</td>\n",
       "      <td>7.000000</td>\n",
       "    </tr>\n",
       "    <tr>\n",
       "      <th>max</th>\n",
       "      <td>59.520000</td>\n",
       "      <td>7.000000</td>\n",
       "    </tr>\n",
       "  </tbody>\n",
       "</table>\n",
       "</div>"
      ],
      "text/plain": [
       "                BMI     SleepTime\n",
       "count  11728.000000  11728.000000\n",
       "mean      29.401642      6.538967\n",
       "std        6.240490      0.498501\n",
       "min       12.210000      6.000000\n",
       "25%       25.100000      6.000000\n",
       "50%       28.460000      7.000000\n",
       "75%       32.590000      7.000000\n",
       "max       59.520000      7.000000"
      ]
     },
     "execution_count": 1336,
     "metadata": {},
     "output_type": "execute_result"
    }
   ],
   "source": [
    "df_heart_disease.query('Sleep_cluster==0')[[\"BMI\",\"SleepTime\"]].describe(include=\"all\")"
   ]
  },
  {
   "cell_type": "code",
   "execution_count": 1337,
   "id": "b50d8c27-0167-4fae-8851-0e05c462edaa",
   "metadata": {},
   "outputs": [
    {
     "data": {
      "text/html": [
       "<div>\n",
       "<style scoped>\n",
       "    .dataframe tbody tr th:only-of-type {\n",
       "        vertical-align: middle;\n",
       "    }\n",
       "\n",
       "    .dataframe tbody tr th {\n",
       "        vertical-align: top;\n",
       "    }\n",
       "\n",
       "    .dataframe thead th {\n",
       "        text-align: right;\n",
       "    }\n",
       "</style>\n",
       "<table border=\"1\" class=\"dataframe\">\n",
       "  <thead>\n",
       "    <tr style=\"text-align: right;\">\n",
       "      <th></th>\n",
       "      <th>BMI</th>\n",
       "      <th>SleepTime</th>\n",
       "    </tr>\n",
       "  </thead>\n",
       "  <tbody>\n",
       "    <tr>\n",
       "      <th>count</th>\n",
       "      <td>11858.000000</td>\n",
       "      <td>11858.000000</td>\n",
       "    </tr>\n",
       "    <tr>\n",
       "      <th>mean</th>\n",
       "      <td>28.998171</td>\n",
       "      <td>8.608956</td>\n",
       "    </tr>\n",
       "    <tr>\n",
       "      <th>std</th>\n",
       "      <td>6.213028</td>\n",
       "      <td>1.334554</td>\n",
       "    </tr>\n",
       "    <tr>\n",
       "      <th>min</th>\n",
       "      <td>12.400000</td>\n",
       "      <td>8.000000</td>\n",
       "    </tr>\n",
       "    <tr>\n",
       "      <th>25%</th>\n",
       "      <td>24.810000</td>\n",
       "      <td>8.000000</td>\n",
       "    </tr>\n",
       "    <tr>\n",
       "      <th>50%</th>\n",
       "      <td>28.060000</td>\n",
       "      <td>8.000000</td>\n",
       "    </tr>\n",
       "    <tr>\n",
       "      <th>75%</th>\n",
       "      <td>32.260000</td>\n",
       "      <td>9.000000</td>\n",
       "    </tr>\n",
       "    <tr>\n",
       "      <th>max</th>\n",
       "      <td>59.970000</td>\n",
       "      <td>24.000000</td>\n",
       "    </tr>\n",
       "  </tbody>\n",
       "</table>\n",
       "</div>"
      ],
      "text/plain": [
       "                BMI     SleepTime\n",
       "count  11858.000000  11858.000000\n",
       "mean      28.998171      8.608956\n",
       "std        6.213028      1.334554\n",
       "min       12.400000      8.000000\n",
       "25%       24.810000      8.000000\n",
       "50%       28.060000      8.000000\n",
       "75%       32.260000      9.000000\n",
       "max       59.970000     24.000000"
      ]
     },
     "execution_count": 1337,
     "metadata": {},
     "output_type": "execute_result"
    }
   ],
   "source": [
    "df_heart_disease.query('Sleep_cluster==1')[[\"BMI\",\"SleepTime\"]].describe(include=\"all\")"
   ]
  },
  {
   "cell_type": "code",
   "execution_count": 1338,
   "id": "ec4fdd8f-3a64-4649-8c58-720de670feaa",
   "metadata": {},
   "outputs": [
    {
     "data": {
      "text/html": [
       "<div>\n",
       "<style scoped>\n",
       "    .dataframe tbody tr th:only-of-type {\n",
       "        vertical-align: middle;\n",
       "    }\n",
       "\n",
       "    .dataframe tbody tr th {\n",
       "        vertical-align: top;\n",
       "    }\n",
       "\n",
       "    .dataframe thead th {\n",
       "        text-align: right;\n",
       "    }\n",
       "</style>\n",
       "<table border=\"1\" class=\"dataframe\">\n",
       "  <thead>\n",
       "    <tr style=\"text-align: right;\">\n",
       "      <th></th>\n",
       "      <th>BMI</th>\n",
       "      <th>SleepTime</th>\n",
       "    </tr>\n",
       "  </thead>\n",
       "  <tbody>\n",
       "    <tr>\n",
       "      <th>count</th>\n",
       "      <td>3730.000000</td>\n",
       "      <td>3730.000000</td>\n",
       "    </tr>\n",
       "    <tr>\n",
       "      <th>mean</th>\n",
       "      <td>30.119547</td>\n",
       "      <td>4.334048</td>\n",
       "    </tr>\n",
       "    <tr>\n",
       "      <th>std</th>\n",
       "      <td>7.061564</td>\n",
       "      <td>0.896909</td>\n",
       "    </tr>\n",
       "    <tr>\n",
       "      <th>min</th>\n",
       "      <td>12.840000</td>\n",
       "      <td>1.000000</td>\n",
       "    </tr>\n",
       "    <tr>\n",
       "      <th>25%</th>\n",
       "      <td>25.185000</td>\n",
       "      <td>4.000000</td>\n",
       "    </tr>\n",
       "    <tr>\n",
       "      <th>50%</th>\n",
       "      <td>29.210000</td>\n",
       "      <td>5.000000</td>\n",
       "    </tr>\n",
       "    <tr>\n",
       "      <th>75%</th>\n",
       "      <td>34.010000</td>\n",
       "      <td>5.000000</td>\n",
       "    </tr>\n",
       "    <tr>\n",
       "      <th>max</th>\n",
       "      <td>59.070000</td>\n",
       "      <td>5.000000</td>\n",
       "    </tr>\n",
       "  </tbody>\n",
       "</table>\n",
       "</div>"
      ],
      "text/plain": [
       "               BMI    SleepTime\n",
       "count  3730.000000  3730.000000\n",
       "mean     30.119547     4.334048\n",
       "std       7.061564     0.896909\n",
       "min      12.840000     1.000000\n",
       "25%      25.185000     4.000000\n",
       "50%      29.210000     5.000000\n",
       "75%      34.010000     5.000000\n",
       "max      59.070000     5.000000"
      ]
     },
     "execution_count": 1338,
     "metadata": {},
     "output_type": "execute_result"
    }
   ],
   "source": [
    "df_heart_disease.query('Sleep_cluster==2')[[\"BMI\",\"SleepTime\"]].describe(include=\"all\")"
   ]
  },
  {
   "cell_type": "markdown",
   "id": "c40c0e5c-fc8e-4be7-8ed2-c02c0fbf719a",
   "metadata": {
    "jp-MarkdownHeadingCollapsed": true
   },
   "source": [
    "## 임의로 분류\n",
    "- BMI는 저체중(X < 18.5), 정상+과체중(18.5<= X < 30), 비만(30 <= X < 40), 고도비만(X >= 40)으로 나눔\n",
    "- 수면 시간은 수면 부족(X < 6), 정상 수면(6 <= X < 9), 수면 과다(X > 9)로 나눔\n",
    "- 60대 중 BMI와 수면시간이 정상일 경우 심장병에 걸릴 확률 : 13%\n",
    "- 60대 중 BMI가 비정상일 경우 심장병에 걸릴 확률 : 14%(1% 증가)\n",
    "- 60대 중 수면시간이 비정상일 경우 심장병에 걸릴 확률 20% (7% 증가)\n",
    "- 60대 중 BMI나 수면시간이 비정상일 경우 심장병에 걸릴 확률 : 18%(5% 증가)\n",
    "- 60대 중 BMI와 수면시간이 비정상일 경우 심장병에 걸릴 확률 : 23% (10% 증가)"
   ]
  },
  {
   "cell_type": "code",
   "execution_count": 1399,
   "id": "4c66ee86-7187-49b7-8ec8-e8e5f3359296",
   "metadata": {},
   "outputs": [
    {
     "data": {
      "text/plain": [
       "BMI_cluster\n",
       "1.0    211843\n",
       "2.0     86457\n",
       "3.0     15893\n",
       "0.0      5110\n",
       "Name: count, dtype: int64"
      ]
     },
     "execution_count": 1399,
     "metadata": {},
     "output_type": "execute_result"
    }
   ],
   "source": [
    "df_heart.loc[df_heart.loc[df_heart[\"BMI\"] < 18.5].index,\"BMI_cluster\"]=0\n",
    "df_heart.loc[df_heart.loc[(df_heart[\"BMI\"] >= 18.5)&(df_heart[\"BMI\"] < 30)].index,\"BMI_cluster\"]=1\n",
    "df_heart.loc[df_heart.loc[(df_heart[\"BMI\"] >= 30)&(df_heart[\"BMI\"] < 40)].index,\"BMI_cluster\"]=2\n",
    "df_heart.loc[df_heart.loc[df_heart[\"BMI\"] >= 40].index,\"BMI_cluster\"]=3\n",
    "df_heart[\"BMI_cluster\"].value_counts()"
   ]
  },
  {
   "cell_type": "code",
   "execution_count": 1400,
   "id": "60b47a7c-0fda-4da1-b715-42fb410a8bf7",
   "metadata": {},
   "outputs": [
    {
     "data": {
      "text/plain": [
       "Sleep_cluster\n",
       "1.0    261737\n",
       "0.0     30161\n",
       "2.0     27405\n",
       "Name: count, dtype: int64"
      ]
     },
     "execution_count": 1400,
     "metadata": {},
     "output_type": "execute_result"
    }
   ],
   "source": [
    "df_heart.loc[df_heart.loc[df_heart[\"SleepTime\"] < 6].index,\"Sleep_cluster\"]=0\n",
    "df_heart.loc[df_heart.loc[(df_heart[\"SleepTime\"] >= 6)&(df_heart[\"SleepTime\"] < 9)].index,\"Sleep_cluster\"]=1\n",
    "df_heart.loc[df_heart.loc[df_heart[\"SleepTime\"] >= 9].index,\"Sleep_cluster\"]=2\n",
    "df_heart[\"Sleep_cluster\"].value_counts()"
   ]
  },
  {
   "cell_type": "code",
   "execution_count": 1401,
   "id": "45c670b1-20da-462d-a99e-80902bb266fa",
   "metadata": {},
   "outputs": [],
   "source": [
    "df_heart_disease = df_heart.query(\"HeartDisease==1\")\n",
    "df_heart_good = df_heart.query(\"HeartDisease==0\")"
   ]
  },
  {
   "cell_type": "code",
   "execution_count": 1404,
   "id": "78001549-a3b4-46f7-89f1-29e07d4fc40a",
   "metadata": {},
   "outputs": [
    {
     "data": {
      "text/plain": [
       "AgeCategory_int\n",
       "10    0.006084\n",
       "20    0.007795\n",
       "30    0.013239\n",
       "40    0.028448\n",
       "50    0.064821\n",
       "60    0.109478\n",
       "70    0.169237\n",
       "80    0.225637\n",
       "Name: count, dtype: float64"
      ]
     },
     "execution_count": 1404,
     "metadata": {},
     "output_type": "execute_result"
    }
   ],
   "source": [
    "df_heart_disease[\"AgeCategory_int\"].value_counts()/df_heart[\"AgeCategory_int\"].value_counts()"
   ]
  },
  {
   "cell_type": "code",
   "execution_count": 1458,
   "id": "7e5363ea-32f1-4b8b-a6a7-fd13553a4da1",
   "metadata": {},
   "outputs": [
    {
     "data": {
      "text/plain": [
       "0.13"
      ]
     },
     "execution_count": 1458,
     "metadata": {},
     "output_type": "execute_result"
    }
   ],
   "source": [
    "# 60대 대상 수면시간과 BMI가 정상일 때 심장별 걸릴 확률\n",
    "age_conditions = \"AgeCategory_int >= 60\"\n",
    "BMI_conditions = \"BMI_cluster == 1\"\n",
    "Sleep_conditions = \"Sleep_cluster == 1\"\n",
    "conditions = f\"{BMI_conditions} and {Sleep_conditions}\"\n",
    "condition_total= f\"{age_conditions} and {conditions}\"\n",
    "round(len(df_heart_disease.query(condition_total))/len(df_heart.query(condition_total)),2)"
   ]
  },
  {
   "cell_type": "code",
   "execution_count": 1459,
   "id": "a24c89d5-67ca-486b-b108-e9e6efed59b1",
   "metadata": {},
   "outputs": [
    {
     "data": {
      "text/plain": [
       "0.14"
      ]
     },
     "execution_count": 1459,
     "metadata": {},
     "output_type": "execute_result"
    }
   ],
   "source": [
    "# 60대 대상 수면시간이나 BMI가 비정상일 때 심장별 걸릴 확률\n",
    "age_conditions = \"AgeCategory_int >= 60\"\n",
    "BMI_conditions = \"BMI_cluster != 1\"\n",
    "Sleep_conditions = \"Sleep_cluster != 1\"\n",
    "conditions = f\"{BMI_conditions} or {Sleep_conditions}\"\n",
    "condition_total= f\"{age_conditions} and {conditions}\"\n",
    "round(len(df_heart_disease.query(condition_total))/len(df_heart.query(condition_total)),2)"
   ]
  },
  {
   "cell_type": "code",
   "execution_count": 1460,
   "id": "e1bbd746-29e0-42dc-b966-34c6cee6fcb4",
   "metadata": {},
   "outputs": [
    {
     "data": {
      "text/plain": [
       "0.2"
      ]
     },
     "execution_count": 1460,
     "metadata": {},
     "output_type": "execute_result"
    }
   ],
   "source": [
    "# 60대 대상 수면시간이 비정상일 때 심장별 걸릴 확률\n",
    "age_conditions = \"AgeCategory_int >= 60\"\n",
    "Sleep_conditions = \"Sleep_cluster != 1\"\n",
    "conditions = f\"{Sleep_conditions}\"\n",
    "condition_total= f\"{age_conditions} and {conditions}\"\n",
    "round(len(df_heart_disease.query(condition_total))/len(df_heart.query(condition_total)),2)"
   ]
  },
  {
   "cell_type": "code",
   "execution_count": 1461,
   "id": "b1609e94-422a-4698-aa47-f764e9bd46e1",
   "metadata": {},
   "outputs": [
    {
     "data": {
      "text/plain": [
       "0.18"
      ]
     },
     "execution_count": 1461,
     "metadata": {},
     "output_type": "execute_result"
    }
   ],
   "source": [
    "# 60대 대상 BMI가 비정상일 때 심장별 걸릴 확률\n",
    "age_conditions = \"AgeCategory_int >= 60\"\n",
    "BMI_conditions = \"BMI_cluster != 1\"\n",
    "conditions = f\"{BMI_conditions}\"\n",
    "condition_total= f\"{age_conditions} and {conditions}\"\n",
    "round(len(df_heart_disease.query(condition_total))/len(df_heart.query(condition_total)),2)"
   ]
  },
  {
   "cell_type": "code",
   "execution_count": 1462,
   "id": "2c4c9da5-c860-4499-aad2-03a899f0bc8c",
   "metadata": {},
   "outputs": [
    {
     "data": {
      "text/plain": [
       "0.23"
      ]
     },
     "execution_count": 1462,
     "metadata": {},
     "output_type": "execute_result"
    }
   ],
   "source": [
    "# 60대 대상 수면시간과 BMI가 비정상일 때 심장별 걸릴 확률\n",
    "age_conditions = \"AgeCategory_int >= 60\"\n",
    "BMI_conditions = \"BMI_cluster != 1\"\n",
    "Sleep_conditions = \"Sleep_cluster != 1\"\n",
    "conditions = f\"{BMI_conditions} and {Sleep_conditions}\"\n",
    "condition_total= f\"{age_conditions} and {conditions}\"\n",
    "round(len(df_heart_disease.query(condition_total))/len(df_heart.query(condition_total)),2)"
   ]
  },
  {
   "cell_type": "markdown",
   "id": "3661e6ac-98d2-4c4e-8344-2fdf855c79ea",
   "metadata": {},
   "source": [
    "## 결론\n",
    "- BMI와 수면시간이 비정상일 경우 60대 이후에 심장병 유병률이 최대 10%까지 증가\n",
    "- 그렇기 때문에 젊은 나이에서부터 BMI와 수면시간의 관리가 필요함\n",
    "- 특히, 수면시간은 BMI보다 많은 영향을 미치는 것으로 보임\n",
    "- 수면시간과 BMI간의 연관성은 보이지 않았기 때문에 분류를 각자 나눠서 타겟팅 "
   ]
  },
  {
   "cell_type": "code",
   "execution_count": null,
   "id": "34e87bb6-8b2b-4803-8ee6-c6d4be249eba",
   "metadata": {},
   "outputs": [],
   "source": []
  }
 ],
 "metadata": {
  "kernelspec": {
   "display_name": "Python 3 (ipykernel)",
   "language": "python",
   "name": "python3"
  },
  "language_info": {
   "codemirror_mode": {
    "name": "ipython",
    "version": 3
   },
   "file_extension": ".py",
   "mimetype": "text/x-python",
   "name": "python",
   "nbconvert_exporter": "python",
   "pygments_lexer": "ipython3",
   "version": "3.11.8"
  }
 },
 "nbformat": 4,
 "nbformat_minor": 5
}
